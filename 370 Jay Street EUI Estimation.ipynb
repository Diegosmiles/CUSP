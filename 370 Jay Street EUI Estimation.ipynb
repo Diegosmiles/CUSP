{
 "cells": [
  {
   "cell_type": "markdown",
   "metadata": {},
   "source": [
    "# Civic Project: Using Pluto data and Disclosure data for Local Law 84"
   ]
  },
  {
   "cell_type": "code",
   "execution_count": 1,
   "metadata": {
    "collapsed": false
   },
   "outputs": [
    {
     "name": "stdout",
     "output_type": "stream",
     "text": [
      "Populating the interactive namespace from numpy and matplotlib\n"
     ]
    }
   ],
   "source": [
    "import geopandas as gp\n",
    "import pandas as pd\n",
    "import numpy as np\n",
    "import statsmodels.formula.api as smf\n",
    "import statsmodels.api as sm\n",
    "import pylab as pl\n",
    "import math\n",
    "pl.style.use('ggplot')\n",
    "%pylab inline"
   ]
  },
  {
   "cell_type": "markdown",
   "metadata": {},
   "source": [
    "# Index\n",
    "1. Data Wrangling\n",
    "2. Regressions\n",
    "3. Predictions\n",
    "4. Further Data Selection\n",
    "  1. Regressions\n",
    "  2. Predictions\n",
    "5. Estimation Approach 1\n",
    "6. Estimations of GHG\n",
    "7. Estimation Approach 3"
   ]
  },
  {
   "cell_type": "markdown",
   "metadata": {},
   "source": [
    "# 1. Data Wrangling"
   ]
  },
  {
   "cell_type": "code",
   "execution_count": 2,
   "metadata": {
    "collapsed": true
   },
   "outputs": [],
   "source": [
    "# Read Brooklyn data, select relevant columns\n",
    "pluto_br = gp.read_file('Brooklyn/BKMapPLUTO.shp')\n",
    "pluto_br = pluto_br[['BBL','BldgArea', 'BldgClass', 'Block', 'Borough','ComArea','LandUse', 'LotArea', \n",
    "               'OfficeArea', 'OwnerType', 'ResArea', 'RetailArea','UnitsTotal','UnitsRes', 'YearBuilt',]]\n",
    "pluto_br = pluto_br[pluto_br['UnitsTotal']>0]"
   ]
  },
  {
   "cell_type": "code",
   "execution_count": 3,
   "metadata": {
    "collapsed": true
   },
   "outputs": [],
   "source": [
    "# Read Manhattan data, select relevant columns\n",
    "pluto_ma = gp.read_file('Manhattan/MNMapPLUTO.shp')\n",
    "pluto_ma = pluto_ma[['BBL','BldgArea', 'BldgClass', 'Block', 'Borough','ComArea','LandUse', 'LotArea', \n",
    "               'OfficeArea', 'OwnerType', 'ResArea', 'RetailArea','UnitsTotal','UnitsRes', 'YearBuilt',]]\n",
    "pluto_ma = pluto_ma[pluto_ma['UnitsTotal']>0]"
   ]
  },
  {
   "cell_type": "code",
   "execution_count": 4,
   "metadata": {
    "collapsed": false
   },
   "outputs": [],
   "source": [
    "# Compute possible predictors\n",
    "pluto_br['UnitsOffice'] = pluto_br['UnitsTotal'] - pluto_br['UnitsRes']\n",
    "pluto_ma['UnitsOffice'] = pluto_ma['UnitsTotal'] - pluto_ma['UnitsRes']"
   ]
  },
  {
   "cell_type": "code",
   "execution_count": 5,
   "metadata": {
    "collapsed": true
   },
   "outputs": [],
   "source": [
    "# Read disclosure data, select relevant columns\n",
    "energy = pd.read_csv('Energy_and_Water_Data_Disclosure_for_Local_Law_84__2013_.csv')\n",
    "energy['BBL'] = energy['NYC Borough, Block, and Lot (BBL)']\n",
    "energy = energy[['Borough','BBL','Zip Code','Site EUI(kBtu/ft2)','Weather Normalized Site EUI(kBtu/ft2)', \n",
    "                 'Source EUI(kBtu/ft2)','Weather Normalized Source EUI(kBtu/ft2)','ENERGY STAR Score',\n",
    "                 'Total GHG Emissions(MtCO2e)','Reported Property Floor Area (Building(s)) (ft²)']]"
   ]
  },
  {
   "cell_type": "code",
   "execution_count": 6,
   "metadata": {
    "collapsed": true
   },
   "outputs": [],
   "source": [
    "# Convert datatype of values in relevant columns to numeric\n",
    "energy['Site EUI(kBtu/ft2)'] = energy['Site EUI(kBtu/ft2)'].convert_objects(convert_numeric=True)\n",
    "energy['Total GHG Emissions(MtCO2e)'] = energy['Total GHG Emissions(MtCO2e)'].convert_objects(convert_numeric=True)\n",
    "energy['Reported Property Floor Area (Building(s)) (ft²)'] = energy['Reported Property Floor Area (Building(s)) (ft²)'].convert_objects(convert_numeric=True)\n",
    "energy['Weather Normalized Site EUI(kBtu/ft2)'] = energy['Weather Normalized Site EUI(kBtu/ft2)'].convert_objects(convert_numeric=True)\n",
    "energy['Source EUI(kBtu/ft2)'] = energy['Source EUI(kBtu/ft2)'].convert_objects(convert_numeric=True)\n",
    "energy['Weather Normalized Source EUI(kBtu/ft2)'] = energy['Weather Normalized Source EUI(kBtu/ft2)'].convert_objects(convert_numeric=True)\n",
    "energy['ENERGY STAR Score'] = energy['ENERGY STAR Score'].convert_objects(convert_numeric=True)"
   ]
  },
  {
   "cell_type": "code",
   "execution_count": 7,
   "metadata": {
    "collapsed": true
   },
   "outputs": [],
   "source": [
    "# Merge pluto data\n",
    "pluto = pluto_br.append(pluto_ma)"
   ]
  },
  {
   "cell_type": "code",
   "execution_count": 8,
   "metadata": {
    "collapsed": true
   },
   "outputs": [],
   "source": [
    "# Rename columns for future regression\n",
    "energy.rename(columns={'Site EUI(kBtu/ft2)':'EUI','Weather Normalized Site EUI(kBtu/ft2)':'NormEUI',\n",
    "                     'Source EUI(kBtu/ft2)':'SourceEUI','Weather Normalized Source EUI(kBtu/ft2)':'NormSourceEUI',\n",
    "                     'Total GHG Emissions(MtCO2e)':'GHG',\n",
    "                     'Reported Property Floor Area (Building(s)) (ft²)':'FloorArea'},inplace=True)"
   ]
  },
  {
   "cell_type": "code",
   "execution_count": 9,
   "metadata": {
    "collapsed": false
   },
   "outputs": [],
   "source": [
    "# Delete impossible observations\n",
    "pluto = pluto[pluto['UnitsTotal']>0]\n",
    "energy = energy[(energy['EUI']>0) & (energy['GHG']>0)]    "
   ]
  },
  {
   "cell_type": "code",
   "execution_count": 10,
   "metadata": {
    "collapsed": true
   },
   "outputs": [],
   "source": [
    "# Compute possible predictors\n",
    "pluto['TotalArea'] = pluto['ComArea'] + pluto['OfficeArea'] + pluto['ResArea'] + pluto['RetailArea']  "
   ]
  },
  {
   "cell_type": "code",
   "execution_count": 11,
   "metadata": {
    "collapsed": true
   },
   "outputs": [],
   "source": [
    "# Merge dataset\n",
    "data = pd.merge(pluto, energy, on='BBL', how='inner')"
   ]
  },
  {
   "cell_type": "code",
   "execution_count": 12,
   "metadata": {
    "collapsed": true
   },
   "outputs": [],
   "source": [
    "# Add 1 to the following column values in order to exercise logarithmic transformation later on\n",
    "k = ['FloorArea','OfficeArea','ResArea','ComArea','RetailArea']\n",
    "for i in k:\n",
    "    data.ix[data[i] == 0,i] = 1 "
   ]
  },
  {
   "cell_type": "code",
   "execution_count": 13,
   "metadata": {
    "collapsed": false
   },
   "outputs": [
    {
     "name": "stdout",
     "output_type": "stream",
     "text": [
      "<class 'pandas.core.frame.DataFrame'>\n",
      "Int64Index: 7081 entries, 0 to 7080\n",
      "Data columns (total 26 columns):\n",
      "BBL                  7081 non-null float64\n",
      "BldgArea             7081 non-null int64\n",
      "BldgClass            7081 non-null object\n",
      "Block                7081 non-null int64\n",
      "Borough_x            7081 non-null object\n",
      "ComArea              7081 non-null int64\n",
      "LandUse              7080 non-null object\n",
      "LotArea              7081 non-null int64\n",
      "OfficeArea           7081 non-null int64\n",
      "OwnerType            2729 non-null object\n",
      "ResArea              7081 non-null int64\n",
      "RetailArea           7081 non-null int64\n",
      "UnitsTotal           7081 non-null int64\n",
      "UnitsRes             7081 non-null int64\n",
      "YearBuilt            7081 non-null int64\n",
      "UnitsOffice          7081 non-null int64\n",
      "TotalArea            7081 non-null int64\n",
      "Borough_y            7081 non-null object\n",
      "Zip Code             6579 non-null float64\n",
      "EUI                  7081 non-null float64\n",
      "NormEUI              6105 non-null float64\n",
      "SourceEUI            7081 non-null float64\n",
      "NormSourceEUI        6105 non-null float64\n",
      "ENERGY STAR Score    1424 non-null float64\n",
      "GHG                  7081 non-null float64\n",
      "FloorArea            7073 non-null float64\n",
      "dtypes: float64(9), int64(12), object(5)\n",
      "memory usage: 1.5+ MB\n"
     ]
    }
   ],
   "source": [
    "data.info()"
   ]
  },
  {
   "cell_type": "code",
   "execution_count": 14,
   "metadata": {
    "collapsed": false
   },
   "outputs": [
    {
     "data": {
      "text/plain": [
       "03    3388\n",
       "04    1615\n",
       "05    1267\n",
       "08     347\n",
       "06     276\n",
       "02     155\n",
       "10      26\n",
       "07       5\n",
       "09       1\n",
       "dtype: int64"
      ]
     },
     "execution_count": 14,
     "metadata": {},
     "output_type": "execute_result"
    }
   ],
   "source": [
    "data['LandUse'].value_counts()"
   ]
  },
  {
   "cell_type": "code",
   "execution_count": 15,
   "metadata": {
    "collapsed": false
   },
   "outputs": [
    {
     "name": "stdout",
     "output_type": "stream",
     "text": [
      "<class 'pandas.core.frame.DataFrame'>\n",
      "Int64Index: 1267 entries, 4 to 7059\n",
      "Data columns (total 26 columns):\n",
      "BBL                  1267 non-null float64\n",
      "BldgArea             1267 non-null int64\n",
      "BldgClass            1267 non-null object\n",
      "Block                1267 non-null int64\n",
      "Borough_x            1267 non-null object\n",
      "ComArea              1267 non-null int64\n",
      "LandUse              1267 non-null object\n",
      "LotArea              1267 non-null int64\n",
      "OfficeArea           1267 non-null int64\n",
      "OwnerType            645 non-null object\n",
      "ResArea              1267 non-null int64\n",
      "RetailArea           1267 non-null int64\n",
      "UnitsTotal           1267 non-null int64\n",
      "UnitsRes             1267 non-null int64\n",
      "YearBuilt            1267 non-null int64\n",
      "UnitsOffice          1267 non-null int64\n",
      "TotalArea            1267 non-null int64\n",
      "Borough_y            1267 non-null object\n",
      "Zip Code             1132 non-null float64\n",
      "EUI                  1267 non-null float64\n",
      "NormEUI              1026 non-null float64\n",
      "SourceEUI            1267 non-null float64\n",
      "NormSourceEUI        1026 non-null float64\n",
      "ENERGY STAR Score    1018 non-null float64\n",
      "GHG                  1267 non-null float64\n",
      "FloorArea            1259 non-null float64\n",
      "dtypes: float64(9), int64(12), object(5)\n",
      "memory usage: 267.3+ KB\n"
     ]
    }
   ],
   "source": [
    "# Select only Office Building based on land use 05\n",
    "data05 = data[data['LandUse']=='05']\n",
    "data05.info()"
   ]
  },
  {
   "cell_type": "code",
   "execution_count": 16,
   "metadata": {
    "collapsed": false
   },
   "outputs": [
    {
     "name": "stdout",
     "output_type": "stream",
     "text": [
      "<class 'pandas.core.frame.DataFrame'>\n",
      "Int64Index: 347 entries, 25 to 7073\n",
      "Data columns (total 26 columns):\n",
      "BBL                  347 non-null float64\n",
      "BldgArea             347 non-null int64\n",
      "BldgClass            347 non-null object\n",
      "Block                347 non-null int64\n",
      "Borough_x            347 non-null object\n",
      "ComArea              347 non-null int64\n",
      "LandUse              347 non-null object\n",
      "LotArea              347 non-null int64\n",
      "OfficeArea           347 non-null int64\n",
      "OwnerType            291 non-null object\n",
      "ResArea              347 non-null int64\n",
      "RetailArea           347 non-null int64\n",
      "UnitsTotal           347 non-null int64\n",
      "UnitsRes             347 non-null int64\n",
      "YearBuilt            347 non-null int64\n",
      "UnitsOffice          347 non-null int64\n",
      "TotalArea            347 non-null int64\n",
      "Borough_y            347 non-null object\n",
      "Zip Code             300 non-null float64\n",
      "EUI                  347 non-null float64\n",
      "NormEUI              275 non-null float64\n",
      "SourceEUI            347 non-null float64\n",
      "NormSourceEUI        275 non-null float64\n",
      "ENERGY STAR Score    182 non-null float64\n",
      "GHG                  347 non-null float64\n",
      "FloorArea            347 non-null float64\n",
      "dtypes: float64(9), int64(12), object(5)\n",
      "memory usage: 73.2+ KB\n"
     ]
    }
   ],
   "source": [
    "# Select only Public Facilities and Institutions based on land use 08\n",
    "data08 = data[data['LandUse']=='08']\n",
    "data08.info()"
   ]
  },
  {
   "cell_type": "markdown",
   "metadata": {},
   "source": [
    "# 2. Regressions"
   ]
  },
  {
   "cell_type": "markdown",
   "metadata": {},
   "source": [
    "#### For office buildings. EUI on Floor Area, since Retail Area is not significant."
   ]
  },
  {
   "cell_type": "code",
   "execution_count": 17,
   "metadata": {
    "collapsed": false
   },
   "outputs": [
    {
     "name": "stdout",
     "output_type": "stream",
     "text": [
      "                              OLS Regression Results                             \n",
      "=================================================================================\n",
      "Dep. Variable:     np.log(NormSourceEUI)   R-squared:                       0.004\n",
      "Model:                               OLS   Adj. R-squared:                  0.003\n",
      "Method:                    Least Squares   F-statistic:                     3.941\n",
      "Date:                   Thu, 29 Oct 2015   Prob (F-statistic):             0.0474\n",
      "Time:                           17:28:39   Log-Likelihood:                -1270.5\n",
      "No. Observations:                   1018   AIC:                             2545.\n",
      "Df Residuals:                       1016   BIC:                             2555.\n",
      "Df Model:                              1                                         \n",
      "Covariance Type:               nonrobust                                         \n",
      "=====================================================================================\n",
      "                        coef    std err          t      P>|t|      [95.0% Conf. Int.]\n",
      "-------------------------------------------------------------------------------------\n",
      "Intercept             4.7253      0.317     14.889      0.000         4.102     5.348\n",
      "np.log(FloorArea)     0.0514      0.026      1.985      0.047         0.001     0.102\n",
      "==============================================================================\n",
      "Omnibus:                      664.971   Durbin-Watson:                   1.960\n",
      "Prob(Omnibus):                  0.000   Jarque-Bera (JB):            25509.286\n",
      "Skew:                           2.427   Prob(JB):                         0.00\n",
      "Kurtosis:                      27.038   Cond. No.                         148.\n",
      "==============================================================================\n",
      "\n",
      "Warnings:\n",
      "[1] Standard Errors assume that the covariance matrix of the errors is correctly specified.\n"
     ]
    }
   ],
   "source": [
    "model = smf.ols('np.log(NormSourceEUI) ~ np.log(FloorArea)', data=data05, missing='drop').fit()\n",
    "print model.summary()"
   ]
  },
  {
   "cell_type": "markdown",
   "metadata": {},
   "source": [
    "#### For all building types. EUI on Office Area and Retail Area."
   ]
  },
  {
   "cell_type": "code",
   "execution_count": 18,
   "metadata": {
    "collapsed": false
   },
   "outputs": [
    {
     "name": "stdout",
     "output_type": "stream",
     "text": [
      "                              OLS Regression Results                             \n",
      "=================================================================================\n",
      "Dep. Variable:     np.log(NormSourceEUI)   R-squared:                       0.052\n",
      "Model:                               OLS   Adj. R-squared:                  0.052\n",
      "Method:                    Least Squares   F-statistic:                     167.9\n",
      "Date:                   Thu, 29 Oct 2015   Prob (F-statistic):           1.03e-71\n",
      "Time:                           17:28:39   Log-Likelihood:                -7251.6\n",
      "No. Observations:                   6105   AIC:                         1.451e+04\n",
      "Df Residuals:                       6102   BIC:                         1.453e+04\n",
      "Df Model:                              2                                         \n",
      "Covariance Type:               nonrobust                                         \n",
      "======================================================================================\n",
      "                         coef    std err          t      P>|t|      [95.0% Conf. Int.]\n",
      "--------------------------------------------------------------------------------------\n",
      "Intercept              4.7522      0.014    344.257      0.000         4.725     4.779\n",
      "np.log(OfficeArea)     0.0218      0.002      9.774      0.000         0.017     0.026\n",
      "np.log(RetailArea)     0.0280      0.002     11.984      0.000         0.023     0.033\n",
      "==============================================================================\n",
      "Omnibus:                     4673.395   Durbin-Watson:                   1.908\n",
      "Prob(Omnibus):                  0.000   Jarque-Bera (JB):           409428.385\n",
      "Skew:                           3.004   Prob(JB):                         0.00\n",
      "Kurtosis:                      42.667   Cond. No.                         9.77\n",
      "==============================================================================\n",
      "\n",
      "Warnings:\n",
      "[1] Standard Errors assume that the covariance matrix of the errors is correctly specified.\n"
     ]
    }
   ],
   "source": [
    "model1 = smf.ols('np.log(NormSourceEUI) ~ np.log(OfficeArea) + np.log(RetailArea) ', data=data, missing='drop').fit()\n",
    "print model1.summary()"
   ]
  },
  {
   "cell_type": "markdown",
   "metadata": {},
   "source": [
    "#### For Institutions. EUI on Office Area and Retail Area. Not significant."
   ]
  },
  {
   "cell_type": "code",
   "execution_count": 19,
   "metadata": {
    "collapsed": false
   },
   "outputs": [
    {
     "name": "stdout",
     "output_type": "stream",
     "text": [
      "                              OLS Regression Results                             \n",
      "=================================================================================\n",
      "Dep. Variable:     np.log(NormSourceEUI)   R-squared:                       0.007\n",
      "Model:                               OLS   Adj. R-squared:                 -0.000\n",
      "Method:                    Least Squares   F-statistic:                    0.9407\n",
      "Date:                   Thu, 29 Oct 2015   Prob (F-statistic):              0.392\n",
      "Time:                           17:28:39   Log-Likelihood:                -500.76\n",
      "No. Observations:                    275   AIC:                             1008.\n",
      "Df Residuals:                        272   BIC:                             1018.\n",
      "Df Model:                              2                                         \n",
      "Covariance Type:               nonrobust                                         \n",
      "======================================================================================\n",
      "                         coef    std err          t      P>|t|      [95.0% Conf. Int.]\n",
      "--------------------------------------------------------------------------------------\n",
      "Intercept              5.3151      0.105     50.635      0.000         5.108     5.522\n",
      "np.log(OfficeArea)     0.0214      0.020      1.061      0.290        -0.018     0.061\n",
      "np.log(RetailArea)    -0.0338      0.036     -0.951      0.343        -0.104     0.036\n",
      "==============================================================================\n",
      "Omnibus:                      145.688   Durbin-Watson:                   1.805\n",
      "Prob(Omnibus):                  0.000   Jarque-Bera (JB):             1993.219\n",
      "Skew:                           1.782   Prob(JB):                         0.00\n",
      "Kurtosis:                      15.699   Cond. No.                         5.98\n",
      "==============================================================================\n",
      "\n",
      "Warnings:\n",
      "[1] Standard Errors assume that the covariance matrix of the errors is correctly specified.\n"
     ]
    }
   ],
   "source": [
    "model2 = smf.ols('np.log(NormSourceEUI) ~ np.log(OfficeArea) + np.log(RetailArea) ', data=data08, missing='drop').fit()\n",
    "print model2.summary()"
   ]
  },
  {
   "cell_type": "markdown",
   "metadata": {},
   "source": [
    "#### For Institutions types. EUI on Floor Area. Not significant."
   ]
  },
  {
   "cell_type": "code",
   "execution_count": 20,
   "metadata": {
    "collapsed": false
   },
   "outputs": [
    {
     "name": "stdout",
     "output_type": "stream",
     "text": [
      "                              OLS Regression Results                             \n",
      "=================================================================================\n",
      "Dep. Variable:     np.log(NormSourceEUI)   R-squared:                       0.001\n",
      "Model:                               OLS   Adj. R-squared:                 -0.002\n",
      "Method:                    Least Squares   F-statistic:                    0.3752\n",
      "Date:                   Thu, 29 Oct 2015   Prob (F-statistic):              0.541\n",
      "Time:                           17:28:39   Log-Likelihood:                -501.52\n",
      "No. Observations:                    275   AIC:                             1007.\n",
      "Df Residuals:                        273   BIC:                             1014.\n",
      "Df Model:                              1                                         \n",
      "Covariance Type:               nonrobust                                         \n",
      "=====================================================================================\n",
      "                        coef    std err          t      P>|t|      [95.0% Conf. Int.]\n",
      "-------------------------------------------------------------------------------------\n",
      "Intercept             6.1357      1.306      4.699      0.000         3.565     8.706\n",
      "np.log(FloorArea)    -0.0680      0.111     -0.613      0.541        -0.287     0.151\n",
      "==============================================================================\n",
      "Omnibus:                      145.112   Durbin-Watson:                   1.783\n",
      "Prob(Omnibus):                  0.000   Jarque-Bera (JB):             1892.775\n",
      "Skew:                           1.790   Prob(JB):                         0.00\n",
      "Kurtosis:                      15.344   Cond. No.                         170.\n",
      "==============================================================================\n",
      "\n",
      "Warnings:\n",
      "[1] Standard Errors assume that the covariance matrix of the errors is correctly specified.\n"
     ]
    }
   ],
   "source": [
    "model3 = smf.ols('np.log(NormSourceEUI) ~ np.log(FloorArea)', data=data08, missing='drop').fit()\n",
    "print model3.summary()"
   ]
  },
  {
   "cell_type": "markdown",
   "metadata": {},
   "source": [
    "#### For office buildings. EUI on number of total units. Even though not relevant."
   ]
  },
  {
   "cell_type": "code",
   "execution_count": 21,
   "metadata": {
    "collapsed": false
   },
   "outputs": [
    {
     "name": "stdout",
     "output_type": "stream",
     "text": [
      "                              OLS Regression Results                             \n",
      "=================================================================================\n",
      "Dep. Variable:     np.log(NormSourceEUI)   R-squared:                       0.017\n",
      "Model:                               OLS   Adj. R-squared:                  0.016\n",
      "Method:                    Least Squares   F-statistic:                     17.24\n",
      "Date:                   Thu, 29 Oct 2015   Prob (F-statistic):           3.57e-05\n",
      "Time:                           17:28:39   Log-Likelihood:                -1270.8\n",
      "No. Observations:                   1026   AIC:                             2546.\n",
      "Df Residuals:                       1024   BIC:                             2555.\n",
      "Df Model:                              1                                         \n",
      "Covariance Type:               nonrobust                                         \n",
      "======================================================================================\n",
      "                         coef    std err          t      P>|t|      [95.0% Conf. Int.]\n",
      "--------------------------------------------------------------------------------------\n",
      "Intercept              5.5068      0.045    121.201      0.000         5.418     5.596\n",
      "np.log(UnitsTotal)    -0.0649      0.016     -4.152      0.000        -0.096    -0.034\n",
      "==============================================================================\n",
      "Omnibus:                      656.030   Durbin-Watson:                   1.950\n",
      "Prob(Omnibus):                  0.000   Jarque-Bera (JB):            26619.076\n",
      "Skew:                           2.331   Prob(JB):                         0.00\n",
      "Kurtosis:                      27.514   Cond. No.                         5.48\n",
      "==============================================================================\n",
      "\n",
      "Warnings:\n",
      "[1] Standard Errors assume that the covariance matrix of the errors is correctly specified.\n"
     ]
    }
   ],
   "source": [
    "model4 = smf.ols('np.log(NormSourceEUI) ~ np.log(UnitsTotal)', data=data05, missing='drop').fit()\n",
    "print model4.summary()"
   ]
  },
  {
   "cell_type": "markdown",
   "metadata": {},
   "source": [
    "#### For office buildings. EUI on number of office units. Even though not relevant."
   ]
  },
  {
   "cell_type": "code",
   "execution_count": 22,
   "metadata": {
    "collapsed": false
   },
   "outputs": [
    {
     "name": "stdout",
     "output_type": "stream",
     "text": [
      "                              OLS Regression Results                             \n",
      "=================================================================================\n",
      "Dep. Variable:     np.log(NormSourceEUI)   R-squared:                       0.014\n",
      "Model:                               OLS   Adj. R-squared:                  0.013\n",
      "Method:                    Least Squares   F-statistic:                     14.70\n",
      "Date:                   Thu, 29 Oct 2015   Prob (F-statistic):           0.000134\n",
      "Time:                           17:28:39   Log-Likelihood:                -1272.1\n",
      "No. Observations:                   1026   AIC:                             2548.\n",
      "Df Residuals:                       1024   BIC:                             2558.\n",
      "Df Model:                              1                                         \n",
      "Covariance Type:               nonrobust                                         \n",
      "=======================================================================================\n",
      "                          coef    std err          t      P>|t|      [95.0% Conf. Int.]\n",
      "---------------------------------------------------------------------------------------\n",
      "Intercept               5.4927      0.045    122.139      0.000         5.404     5.581\n",
      "np.log(UnitsOffice)    -0.0604      0.016     -3.834      0.000        -0.091    -0.029\n",
      "==============================================================================\n",
      "Omnibus:                      656.072   Durbin-Watson:                   1.953\n",
      "Prob(Omnibus):                  0.000   Jarque-Bera (JB):            26535.382\n",
      "Skew:                           2.332   Prob(JB):                         0.00\n",
      "Kurtosis:                      27.474   Cond. No.                         5.33\n",
      "==============================================================================\n",
      "\n",
      "Warnings:\n",
      "[1] Standard Errors assume that the covariance matrix of the errors is correctly specified.\n"
     ]
    }
   ],
   "source": [
    "model5 = smf.ols('np.log(NormSourceEUI) ~ np.log(UnitsOffice)', data=data05, missing='drop').fit()\n",
    "print model5.summary()"
   ]
  },
  {
   "cell_type": "markdown",
   "metadata": {},
   "source": [
    "# 3. Actual Predictions based on best models"
   ]
  },
  {
   "cell_type": "markdown",
   "metadata": {},
   "source": [
    "#### For office buildings. EUI on Floor Area."
   ]
  },
  {
   "cell_type": "code",
   "execution_count": 23,
   "metadata": {
    "collapsed": false
   },
   "outputs": [
    {
     "name": "stdout",
     "output_type": "stream",
     "text": [
      "Predicted EUI: 220.226206713\n"
     ]
    }
   ],
   "source": [
    "# Predict EUI of 370 Jay Street based on model:\n",
    "y = model.params[0] + model.params[1]*np.log(450000)\n",
    "print 'Predicted EUI:', math.exp(y)"
   ]
  },
  {
   "cell_type": "code",
   "execution_count": 24,
   "metadata": {
    "collapsed": false
   },
   "outputs": [
    {
     "data": {
      "text/plain": [
       "count       7073.000000\n",
       "mean      187321.349215\n",
       "std       302952.057492\n",
       "min          500.000000\n",
       "25%        68402.000000\n",
       "50%       102053.000000\n",
       "75%       182980.000000\n",
       "max      9515627.000000\n",
       "Name: FloorArea, dtype: float64"
      ]
     },
     "execution_count": 24,
     "metadata": {},
     "output_type": "execute_result"
    }
   ],
   "source": [
    "data.FloorArea.describe()"
   ]
  },
  {
   "cell_type": "markdown",
   "metadata": {},
   "source": [
    "#### For all building types. EUI on Floor Area."
   ]
  },
  {
   "cell_type": "code",
   "execution_count": 25,
   "metadata": {
    "collapsed": false
   },
   "outputs": [
    {
     "name": "stdout",
     "output_type": "stream",
     "text": [
      "Predicted EUI: 190.547224815\n"
     ]
    }
   ],
   "source": [
    "# Predict EUI of 370 Jay Street based on model:\n",
    "y = model3.params[0] + model3.params[1]*np.log(450000)\n",
    "print 'Predicted EUI:', math.exp(y)"
   ]
  },
  {
   "cell_type": "markdown",
   "metadata": {},
   "source": [
    "# 4. Clean dataset further\n",
    "#### Getting rid of potential outliers"
   ]
  },
  {
   "cell_type": "code",
   "execution_count": 26,
   "metadata": {
    "collapsed": true
   },
   "outputs": [],
   "source": [
    "data_clean = data[(data.FloorArea>1000) & (data.UnitsTotal >= 10) & (data.UnitsTotal < 1000)]"
   ]
  },
  {
   "cell_type": "code",
   "execution_count": 27,
   "metadata": {
    "collapsed": false
   },
   "outputs": [
    {
     "name": "stdout",
     "output_type": "stream",
     "text": [
      "<class 'pandas.core.frame.DataFrame'>\n",
      "Int64Index: 753 entries, 4 to 7059\n",
      "Data columns (total 26 columns):\n",
      "BBL                  753 non-null float64\n",
      "BldgArea             753 non-null int64\n",
      "BldgClass            753 non-null object\n",
      "Block                753 non-null int64\n",
      "Borough_x            753 non-null object\n",
      "ComArea              753 non-null int64\n",
      "LandUse              753 non-null object\n",
      "LotArea              753 non-null int64\n",
      "OfficeArea           753 non-null int64\n",
      "OwnerType            390 non-null object\n",
      "ResArea              753 non-null int64\n",
      "RetailArea           753 non-null int64\n",
      "UnitsTotal           753 non-null int64\n",
      "UnitsRes             753 non-null int64\n",
      "YearBuilt            753 non-null int64\n",
      "UnitsOffice          753 non-null int64\n",
      "TotalArea            753 non-null int64\n",
      "Borough_y            753 non-null object\n",
      "Zip Code             685 non-null float64\n",
      "EUI                  753 non-null float64\n",
      "NormEUI              575 non-null float64\n",
      "SourceEUI            753 non-null float64\n",
      "NormSourceEUI        575 non-null float64\n",
      "ENERGY STAR Score    631 non-null float64\n",
      "GHG                  753 non-null float64\n",
      "FloorArea            753 non-null float64\n",
      "dtypes: float64(9), int64(12), object(5)\n",
      "memory usage: 158.8+ KB\n"
     ]
    }
   ],
   "source": [
    "data05_clean = data_clean[data_clean['LandUse']=='05']\n",
    "data05_clean.info()"
   ]
  },
  {
   "cell_type": "markdown",
   "metadata": {},
   "source": [
    "# 4.B Actual Regressions"
   ]
  },
  {
   "cell_type": "code",
   "execution_count": 28,
   "metadata": {
    "collapsed": false
   },
   "outputs": [
    {
     "name": "stdout",
     "output_type": "stream",
     "text": [
      "                              OLS Regression Results                             \n",
      "=================================================================================\n",
      "Dep. Variable:     np.log(NormSourceEUI)   R-squared:                       0.045\n",
      "Model:                               OLS   Adj. R-squared:                  0.044\n",
      "Method:                    Least Squares   F-statistic:                     27.23\n",
      "Date:                   Thu, 29 Oct 2015   Prob (F-statistic):           2.53e-07\n",
      "Time:                           17:28:39   Log-Likelihood:                -600.68\n",
      "No. Observations:                    575   AIC:                             1205.\n",
      "Df Residuals:                        573   BIC:                             1214.\n",
      "Df Model:                              1                                         \n",
      "Covariance Type:               nonrobust                                         \n",
      "=====================================================================================\n",
      "                        coef    std err          t      P>|t|      [95.0% Conf. Int.]\n",
      "-------------------------------------------------------------------------------------\n",
      "Intercept             3.3459      0.365      9.173      0.000         2.629     4.062\n",
      "np.log(FloorArea)     0.1545      0.030      5.218      0.000         0.096     0.213\n",
      "==============================================================================\n",
      "Omnibus:                      426.169   Durbin-Watson:                   2.053\n",
      "Prob(Omnibus):                  0.000   Jarque-Bera (JB):            20043.105\n",
      "Skew:                           2.720   Prob(JB):                         0.00\n",
      "Kurtosis:                      31.408   Cond. No.                         157.\n",
      "==============================================================================\n",
      "\n",
      "Warnings:\n",
      "[1] Standard Errors assume that the covariance matrix of the errors is correctly specified.\n"
     ]
    }
   ],
   "source": [
    "model_clean = smf.ols('np.log(NormSourceEUI) ~ np.log(FloorArea)', data=data05_clean, missing='drop').fit()\n",
    "print model_clean.summary()"
   ]
  },
  {
   "cell_type": "markdown",
   "metadata": {},
   "source": [
    "#### Model improved considerably."
   ]
  },
  {
   "cell_type": "code",
   "execution_count": 29,
   "metadata": {
    "collapsed": false
   },
   "outputs": [
    {
     "name": "stdout",
     "output_type": "stream",
     "text": [
      "                              OLS Regression Results                             \n",
      "=================================================================================\n",
      "Dep. Variable:     np.log(NormSourceEUI)   R-squared:                       0.000\n",
      "Model:                               OLS   Adj. R-squared:                 -0.001\n",
      "Method:                    Least Squares   F-statistic:                    0.2114\n",
      "Date:                   Thu, 29 Oct 2015   Prob (F-statistic):              0.646\n",
      "Time:                           17:28:39   Log-Likelihood:                -613.93\n",
      "No. Observations:                    575   AIC:                             1232.\n",
      "Df Residuals:                        573   BIC:                             1241.\n",
      "Df Model:                              1                                         \n",
      "Covariance Type:               nonrobust                                         \n",
      "======================================================================================\n",
      "                         coef    std err          t      P>|t|      [95.0% Conf. Int.]\n",
      "--------------------------------------------------------------------------------------\n",
      "Intercept              5.1885      0.123     42.248      0.000         4.947     5.430\n",
      "np.log(UnitsTotal)     0.0151      0.033      0.460      0.646        -0.050     0.080\n",
      "==============================================================================\n",
      "Omnibus:                      410.854   Durbin-Watson:                   2.039\n",
      "Prob(Omnibus):                  0.000   Jarque-Bera (JB):            18469.886\n",
      "Skew:                           2.581   Prob(JB):                         0.00\n",
      "Kurtosis:                      30.281   Cond. No.                         16.6\n",
      "==============================================================================\n",
      "\n",
      "Warnings:\n",
      "[1] Standard Errors assume that the covariance matrix of the errors is correctly specified.\n"
     ]
    }
   ],
   "source": [
    "model_clean1 = smf.ols('np.log(NormSourceEUI) ~ np.log(UnitsTotal)', data=data05_clean, missing='drop').fit()\n",
    "print model_clean1.summary()"
   ]
  },
  {
   "cell_type": "markdown",
   "metadata": {},
   "source": [
    "#### This model is not relevant"
   ]
  },
  {
   "cell_type": "code",
   "execution_count": 30,
   "metadata": {
    "collapsed": false
   },
   "outputs": [
    {
     "name": "stdout",
     "output_type": "stream",
     "text": [
      "                              OLS Regression Results                             \n",
      "=================================================================================\n",
      "Dep. Variable:     np.log(NormSourceEUI)   R-squared:                       0.004\n",
      "Model:                               OLS   Adj. R-squared:                  0.000\n",
      "Method:                    Least Squares   F-statistic:                     1.032\n",
      "Date:                   Thu, 29 Oct 2015   Prob (F-statistic):              0.357\n",
      "Time:                           17:28:39   Log-Likelihood:                -613.00\n",
      "No. Observations:                    575   AIC:                             1232.\n",
      "Df Residuals:                        572   BIC:                             1245.\n",
      "Df Model:                              2                                         \n",
      "Covariance Type:               nonrobust                                         \n",
      "==========================================================================================\n",
      "                             coef    std err          t      P>|t|      [95.0% Conf. Int.]\n",
      "------------------------------------------------------------------------------------------\n",
      "Intercept                  5.0805      0.117     43.393      0.000         4.851     5.310\n",
      "np.log(RetailArea + 1)     0.0093      0.011      0.863      0.389        -0.012     0.030\n",
      "np.log(OfficeArea)         0.0075      0.008      0.888      0.375        -0.009     0.024\n",
      "==============================================================================\n",
      "Omnibus:                      409.902   Durbin-Watson:                   2.049\n",
      "Prob(Omnibus):                  0.000   Jarque-Bera (JB):            18177.224\n",
      "Skew:                           2.577   Prob(JB):                         0.00\n",
      "Kurtosis:                      30.058   Cond. No.                         58.0\n",
      "==============================================================================\n",
      "\n",
      "Warnings:\n",
      "[1] Standard Errors assume that the covariance matrix of the errors is correctly specified.\n"
     ]
    }
   ],
   "source": [
    "model_clean2 = smf.ols('np.log(NormSourceEUI) ~ np.log(RetailArea+1) + np.log(OfficeArea)', data=data05_clean, missing='drop').fit()\n",
    "print model_clean2.summary()"
   ]
  },
  {
   "cell_type": "markdown",
   "metadata": {},
   "source": [
    "#### Retail and office area is not significant"
   ]
  },
  {
   "cell_type": "markdown",
   "metadata": {},
   "source": [
    "# 4.B Actual Predictions based on best models. Clean Dataset.\n",
    "Based on floor area for office buildings, deleting leverage points and outliers."
   ]
  },
  {
   "cell_type": "code",
   "execution_count": 31,
   "metadata": {
    "collapsed": false
   },
   "outputs": [
    {
     "name": "stdout",
     "output_type": "stream",
     "text": [
      "Predicted EUI: 212.017886085\n"
     ]
    }
   ],
   "source": [
    "y_clean = model_clean.params[0] + model_clean.params[1]*np.log(450000)\n",
    "eui = math.exp(y_clean)\n",
    "print 'Predicted EUI:', eui"
   ]
  },
  {
   "cell_type": "markdown",
   "metadata": {},
   "source": [
    "### Just educational buildings\n",
    "W5 = City University\n",
    "W6 = Other Colleges and Universities"
   ]
  },
  {
   "cell_type": "code",
   "execution_count": 32,
   "metadata": {
    "collapsed": true
   },
   "outputs": [],
   "source": [
    "dataO = data[(data['BldgClass']=='W5') | (data['BldgClass']=='W6')]"
   ]
  },
  {
   "cell_type": "code",
   "execution_count": 33,
   "metadata": {
    "collapsed": false
   },
   "outputs": [
    {
     "data": {
      "text/plain": [
       "D4    1622\n",
       "D1     972\n",
       "RM     826\n",
       "D7     382\n",
       "O3     315\n",
       "D6     299\n",
       "D3     255\n",
       "O9     231\n",
       "R4     202\n",
       "D9     156\n",
       "O2     156\n",
       "O4     134\n",
       "C1     101\n",
       "RC      77\n",
       "D8      64\n",
       "D0      59\n",
       "W6      57\n",
       "E7      56\n",
       "C7      55\n",
       "L1      53\n",
       "H8      52\n",
       "D5      43\n",
       "H3      42\n",
       "O1      42\n",
       "H1      40\n",
       "E9      37\n",
       "RB      31\n",
       "O5      29\n",
       "H2      28\n",
       "E1      24\n",
       "      ... \n",
       "H9       2\n",
       "W4       2\n",
       "HH       2\n",
       "RH       2\n",
       "RA       2\n",
       "M9       2\n",
       "F2       2\n",
       "P1       2\n",
       "L3       2\n",
       "RW       1\n",
       "C0       1\n",
       "G2       1\n",
       "I2       1\n",
       "C5       1\n",
       "K5       1\n",
       "H5       1\n",
       "J9       1\n",
       "H7       1\n",
       "Y8       1\n",
       "E4       1\n",
       "Z9       1\n",
       "Y3       1\n",
       "C3       1\n",
       "P8       1\n",
       "R1       1\n",
       "RK       1\n",
       "O6       1\n",
       "P6       1\n",
       "F8       1\n",
       "G6       1\n",
       "dtype: int64"
      ]
     },
     "execution_count": 33,
     "metadata": {},
     "output_type": "execute_result"
    }
   ],
   "source": [
    "data['BldgClass'].value_counts()"
   ]
  },
  {
   "cell_type": "markdown",
   "metadata": {},
   "source": [
    "There is no data on this."
   ]
  },
  {
   "cell_type": "markdown",
   "metadata": {},
   "source": [
    "# 5. Estimation Approach 1"
   ]
  },
  {
   "cell_type": "code",
   "execution_count": 34,
   "metadata": {
    "collapsed": false
   },
   "outputs": [
    {
     "data": {
      "text/plain": [
       "count    631.000000\n",
       "mean      70.824089\n",
       "std       20.913483\n",
       "min        1.000000\n",
       "25%       60.000000\n",
       "50%       76.000000\n",
       "75%       87.000000\n",
       "max      100.000000\n",
       "Name: ENERGY STAR Score, dtype: float64"
      ]
     },
     "execution_count": 34,
     "metadata": {},
     "output_type": "execute_result"
    }
   ],
   "source": [
    "data05_clean['ENERGY STAR Score'].describe()"
   ]
  },
  {
   "cell_type": "code",
   "execution_count": 35,
   "metadata": {
    "collapsed": false
   },
   "outputs": [
    {
     "data": {
      "text/plain": [
       "count      9.000000\n",
       "mean     239.866667\n",
       "std       72.027668\n",
       "min       65.300000\n",
       "25%      240.600000\n",
       "50%      245.500000\n",
       "75%      275.500000\n",
       "max      315.000000\n",
       "Name: NormSourceEUI, dtype: float64"
      ]
     },
     "execution_count": 35,
     "metadata": {},
     "output_type": "execute_result"
    }
   ],
   "source": [
    "# LEED Silver is equivalent to at least an ENERGY STAR Score of 50\n",
    "summary = data[data['ENERGY STAR Score']==50]\n",
    "summary.describe()['NormSourceEUI']"
   ]
  },
  {
   "cell_type": "code",
   "execution_count": 36,
   "metadata": {
    "collapsed": false
   },
   "outputs": [
    {
     "data": {
      "text/plain": [
       "count      5.000000\n",
       "mean     257.240000\n",
       "std       22.772637\n",
       "min      240.600000\n",
       "25%      245.400000\n",
       "50%      245.500000\n",
       "75%      258.500000\n",
       "max      296.200000\n",
       "Name: NormSourceEUI, dtype: float64"
      ]
     },
     "execution_count": 36,
     "metadata": {},
     "output_type": "execute_result"
    }
   ],
   "source": [
    "# Same for cleaned dataset\n",
    "summary_clean = data05_clean[data05_clean['ENERGY STAR Score']==50]\n",
    "summary_clean.describe()['NormSourceEUI']"
   ]
  },
  {
   "cell_type": "markdown",
   "metadata": {},
   "source": [
    "As it turns out, the regression is not significant."
   ]
  },
  {
   "cell_type": "markdown",
   "metadata": {},
   "source": [
    "# 6. Estimating Greenhouse Gas Emissions (Total GHG Emissions)"
   ]
  },
  {
   "cell_type": "code",
   "execution_count": 68,
   "metadata": {
    "collapsed": false
   },
   "outputs": [
    {
     "name": "stdout",
     "output_type": "stream",
     "text": [
      "                            OLS Regression Results                            \n",
      "==============================================================================\n",
      "Dep. Variable:            np.log(GHG)   R-squared:                       0.488\n",
      "Model:                            OLS   Adj. R-squared:                  0.487\n",
      "Method:                 Least Squares   F-statistic:                     546.1\n",
      "Date:                Thu, 29 Oct 2015   Prob (F-statistic):           2.44e-85\n",
      "Time:                        17:43:22   Log-Likelihood:                -795.38\n",
      "No. Observations:                 575   AIC:                             1595.\n",
      "Df Residuals:                     573   BIC:                             1603.\n",
      "Df Model:                           1                                         \n",
      "Covariance Type:            nonrobust                                         \n",
      "=========================================================================================\n",
      "                            coef    std err          t      P>|t|      [95.0% Conf. Int.]\n",
      "-----------------------------------------------------------------------------------------\n",
      "Intercept                 0.2479      0.303      0.818      0.414        -0.347     0.843\n",
      "np.log(NormSourceEUI)     1.3382      0.057     23.369      0.000         1.226     1.451\n",
      "==============================================================================\n",
      "Omnibus:                       20.640   Durbin-Watson:                   2.028\n",
      "Prob(Omnibus):                  0.000   Jarque-Bera (JB):               20.807\n",
      "Skew:                           0.433   Prob(JB):                     3.03e-05\n",
      "Kurtosis:                       2.656   Cond. No.                         41.2\n",
      "==============================================================================\n",
      "\n",
      "Warnings:\n",
      "[1] Standard Errors assume that the covariance matrix of the errors is correctly specified.\n",
      "Predicted GHG Emissions: 1670.58919513 in log: 7.42093165464\n"
     ]
    }
   ],
   "source": [
    "ghg = smf.ols('np.log(GHG) ~ np.log(NormSourceEUI)', data=data05_clean, missing='drop').fit()\n",
    "print ghg.summary()\n",
    "detail = ghg.params[0] + ghg.params[1]*np.log(212.738953122)\n",
    "y = math.exp(detail)\n",
    "print 'Predicted GHG Emissions:', y, 'in log:', detail"
   ]
  },
  {
   "cell_type": "markdown",
   "metadata": {},
   "source": [
    "#### How this faires with other office buildings:"
   ]
  },
  {
   "cell_type": "code",
   "execution_count": 69,
   "metadata": {
    "collapsed": false
   },
   "outputs": [],
   "source": [
    "data05_clean['GHG'].describe()\n",
    "median = data05_clean['GHG'].describe()[5]\n",
    "median = np.log(median)"
   ]
  },
  {
   "cell_type": "code",
   "execution_count": 70,
   "metadata": {
    "collapsed": false
   },
   "outputs": [],
   "source": [
    "X = np.linspace(np.log(data05_clean['GHG'].min()),np.log(data05_clean['GHG'].max()),10)\n",
    "Y = ghg.params[0] + ghg.params[1]*X"
   ]
  },
  {
   "cell_type": "code",
   "execution_count": 71,
   "metadata": {
    "collapsed": false
   },
   "outputs": [
    {
     "data": {
      "text/plain": [
       "<matplotlib.legend.Legend at 0x14d49e450>"
      ]
     },
     "execution_count": 71,
     "metadata": {},
     "output_type": "execute_result"
    },
    {
     "data": {
      "image/png": "[encoded data removed]",
      "text/plain": [
       "<matplotlib.figure.Figure at 0x12628a510>"
      ]
     },
     "metadata": {},
     "output_type": "display_data"
    }
   ],
   "source": [
    "from statsmodels.graphics.api import abline_plot\n",
    "figure, ax = pl.subplots(figsize=(10,10))\n",
    "ax.scatter(np.log(data05_clean['NormSourceEUI']), np.log(data05_clean['GHG']),s=40,c='c')\n",
    "ax.scatter(detail,np.log(eui),c='r',s=50, label='370 Jay Street')\n",
    "ax.plot(X,Y)\n",
    "ax.axvline(median,0,12, label='Median value for GHG',c='salmon', linewidth=4)\n",
    "ax.set_xlabel('Log of GHG')\n",
    "ax.set_ylabel('Log of Normalized Source EUI')\n",
    "ax.legend()"
   ]
  },
  {
   "cell_type": "markdown",
   "metadata": {},
   "source": [
    "The forecasted GHG emissions of 370 Jay Street are above median. "
   ]
  },
  {
   "cell_type": "code",
   "execution_count": 41,
   "metadata": {
    "collapsed": false
   },
   "outputs": [
    {
     "data": {
      "text/plain": [
       "count      141.000000\n",
       "mean      3157.147518\n",
       "std       3789.083482\n",
       "min        359.100000\n",
       "25%        758.300000\n",
       "50%       1807.800000\n",
       "75%       4025.100000\n",
       "max      24002.500000\n",
       "Name: GHG, dtype: float64"
      ]
     },
     "execution_count": 41,
     "metadata": {},
     "output_type": "execute_result"
    }
   ],
   "source": [
    "data05_clean['GHG'][(data05_clean['NormSourceEUI']>200)&(data05_clean['NormSourceEUI']<250)].describe()"
   ]
  },
  {
   "cell_type": "code",
   "execution_count": 42,
   "metadata": {
    "collapsed": false
   },
   "outputs": [
    {
     "name": "stdout",
     "output_type": "stream",
     "text": [
      "Predicted GHG Emissions: 920.700835456 in log: 6.82513515771\n"
     ]
    }
   ],
   "source": [
    "detail = ghg.params[0] + ghg.params[1]*np.log(136.3)\n",
    "y = math.exp(detail)\n",
    "print 'Predicted GHG Emissions:', y, 'in log:', detail"
   ]
  },
  {
   "cell_type": "markdown",
   "metadata": {},
   "source": [
    "### Normalized Site EUI for percentage share of block"
   ]
  },
  {
   "cell_type": "code",
   "execution_count": 43,
   "metadata": {
    "collapsed": false
   },
   "outputs": [
    {
     "name": "stdout",
     "output_type": "stream",
     "text": [
      "                            OLS Regression Results                            \n",
      "==============================================================================\n",
      "Dep. Variable:        np.log(NormEUI)   R-squared:                       0.025\n",
      "Model:                            OLS   Adj. R-squared:                  0.023\n",
      "Method:                 Least Squares   F-statistic:                     14.59\n",
      "Date:                Thu, 29 Oct 2015   Prob (F-statistic):           0.000148\n",
      "Time:                        17:28:39   Log-Likelihood:                -640.89\n",
      "No. Observations:                 575   AIC:                             1286.\n",
      "Df Residuals:                     573   BIC:                             1294.\n",
      "Df Model:                           1                                         \n",
      "Covariance Type:            nonrobust                                         \n",
      "=====================================================================================\n",
      "                        coef    std err          t      P>|t|      [95.0% Conf. Int.]\n",
      "-------------------------------------------------------------------------------------\n",
      "Intercept             2.9359      0.391      7.506      0.000         2.168     3.704\n",
      "np.log(FloorArea)     0.1213      0.032      3.820      0.000         0.059     0.184\n",
      "==============================================================================\n",
      "Omnibus:                      489.848   Durbin-Watson:                   2.056\n",
      "Prob(Omnibus):                  0.000   Jarque-Bera (JB):            27730.477\n",
      "Skew:                           3.336   Prob(JB):                         0.00\n",
      "Kurtosis:                      36.361   Cond. No.                         157.\n",
      "==============================================================================\n",
      "\n",
      "Warnings:\n",
      "[1] Standard Errors assume that the covariance matrix of the errors is correctly specified.\n",
      "Predicted Norm EUI: 91.3201486774 in log: 4.51437144975\n"
     ]
    }
   ],
   "source": [
    "site = smf.ols('np.log(NormEUI) ~ np.log(FloorArea)', data=data05_clean, missing='drop').fit()\n",
    "print site.summary()\n",
    "siteeui = site.params[0] + site.params[1]*np.log(450000)\n",
    "e = math.exp(siteeui)\n",
    "print 'Predicted Norm EUI:', e, 'in log:', siteeui"
   ]
  },
  {
   "cell_type": "code",
   "execution_count": 44,
   "metadata": {
    "collapsed": false
   },
   "outputs": [
    {
     "name": "stdout",
     "output_type": "stream",
     "text": [
      "Share of block energy usage: 0.388122042667 %\n"
     ]
    }
   ],
   "source": [
    "print 'Share of block energy usage:',(e*100/2352872)*100,'%'"
   ]
  },
  {
   "cell_type": "markdown",
   "metadata": {},
   "source": [
    "# 7. Energy Star Portfolio Manager Estimation"
   ]
  },
  {
   "cell_type": "code",
   "execution_count": 45,
   "metadata": {
    "collapsed": false
   },
   "outputs": [
    {
     "data": {
      "text/html": [
       "<div>\n",
       "<table border=\"1\" class=\"dataframe\">\n",
       "  <thead>\n",
       "    <tr style=\"text-align: right;\">\n",
       "      <th></th>\n",
       "      <th>Variables</th>\n",
       "      <th>NYU value</th>\n",
       "      <th>Reference Centering Value*</th>\n",
       "      <th>NYU adjusted value</th>\n",
       "      <th>Coefficient</th>\n",
       "      <th>Predicted independent value</th>\n",
       "    </tr>\n",
       "  </thead>\n",
       "  <tbody>\n",
       "    <tr>\n",
       "      <th>0</th>\n",
       "      <td>Constant</td>\n",
       "      <td>NaN</td>\n",
       "      <td>NaN</td>\n",
       "      <td>NaN</td>\n",
       "      <td>186.6000</td>\n",
       "      <td>186.600000</td>\n",
       "    </tr>\n",
       "    <tr>\n",
       "      <th>1</th>\n",
       "      <td>Ln(Square Foot)</td>\n",
       "      <td>13.038982</td>\n",
       "      <td>9.5350</td>\n",
       "      <td>3.503982</td>\n",
       "      <td>34.1700</td>\n",
       "      <td>119.731057</td>\n",
       "    </tr>\n",
       "    <tr>\n",
       "      <th>2</th>\n",
       "      <td># of PCs per 1000 ft2</td>\n",
       "      <td>2.000000</td>\n",
       "      <td>2.2310</td>\n",
       "      <td>-0.231000</td>\n",
       "      <td>17.2800</td>\n",
       "      <td>-3.991680</td>\n",
       "    </tr>\n",
       "    <tr>\n",
       "      <th>3</th>\n",
       "      <td>Ln(Weekly Operating Hours)</td>\n",
       "      <td>4.276666</td>\n",
       "      <td>3.9720</td>\n",
       "      <td>0.304666</td>\n",
       "      <td>55.9600</td>\n",
       "      <td>17.049116</td>\n",
       "    </tr>\n",
       "    <tr>\n",
       "      <th>4</th>\n",
       "      <td>Ln(Number of Workers per 1000 ft2)</td>\n",
       "      <td>0.832909</td>\n",
       "      <td>0.5616</td>\n",
       "      <td>0.271309</td>\n",
       "      <td>10.3400</td>\n",
       "      <td>2.805336</td>\n",
       "    </tr>\n",
       "    <tr>\n",
       "      <th>5</th>\n",
       "      <td>HDD * % Heated</td>\n",
       "      <td>4691.100000</td>\n",
       "      <td>4411.0000</td>\n",
       "      <td>280.100000</td>\n",
       "      <td>0.0077</td>\n",
       "      <td>2.156770</td>\n",
       "    </tr>\n",
       "    <tr>\n",
       "      <th>6</th>\n",
       "      <td>CDD * % Cooled</td>\n",
       "      <td>1123.850000</td>\n",
       "      <td>1157.0000</td>\n",
       "      <td>-33.150000</td>\n",
       "      <td>0.0144</td>\n",
       "      <td>-0.477360</td>\n",
       "    </tr>\n",
       "  </tbody>\n",
       "</table>\n",
       "</div>"
      ],
      "text/plain": [
       "                            Variables    NYU value  \\\n",
       "0                            Constant          NaN   \n",
       "1                     Ln(Square Foot)    13.038982   \n",
       "2               # of PCs per 1000 ft2     2.000000   \n",
       "3          Ln(Weekly Operating Hours)     4.276666   \n",
       "4  Ln(Number of Workers per 1000 ft2)     0.832909   \n",
       "5                      HDD * % Heated  4691.100000   \n",
       "6                      CDD * % Cooled  1123.850000   \n",
       "\n",
       "   Reference Centering Value*  NYU adjusted value  Coefficient  \\\n",
       "0                         NaN                 NaN     186.6000   \n",
       "1                      9.5350            3.503982      34.1700   \n",
       "2                      2.2310           -0.231000      17.2800   \n",
       "3                      3.9720            0.304666      55.9600   \n",
       "4                      0.5616            0.271309      10.3400   \n",
       "5                   4411.0000          280.100000       0.0077   \n",
       "6                   1157.0000          -33.150000       0.0144   \n",
       "\n",
       "   Predicted independent value  \n",
       "0                   186.600000  \n",
       "1                   119.731057  \n",
       "2                    -3.991680  \n",
       "3                    17.049116  \n",
       "4                     2.805336  \n",
       "5                     2.156770  \n",
       "6                    -0.477360  "
      ]
     },
     "execution_count": 45,
     "metadata": {},
     "output_type": "execute_result"
    }
   ],
   "source": [
    "star = pd.read_csv('EnergyStar.csv')\n",
    "star"
   ]
  },
  {
   "cell_type": "code",
   "execution_count": 46,
   "metadata": {
    "collapsed": false
   },
   "outputs": [
    {
     "name": "stdout",
     "output_type": "stream",
     "text": [
      "Estimated Source EUI: 323.873239351\n"
     ]
    }
   ],
   "source": [
    "print 'Estimated Source EUI:', star['Predicted independent value'].sum()"
   ]
  }
 ],
 "metadata": {
  "kernelspec": {
   "display_name": "Python 2",
   "language": "python",
   "name": "python2"
  },
  "language_info": {
   "codemirror_mode": {
    "name": "ipython",
    "version": 2
   },
   "file_extension": ".py",
   "mimetype": "text/x-python",
   "name": "python",
   "nbconvert_exporter": "python",
   "pygments_lexer": "ipython2",
   "version": "2.7.10"
  }
 },
 "nbformat": 4,
 "nbformat_minor": 0
}
