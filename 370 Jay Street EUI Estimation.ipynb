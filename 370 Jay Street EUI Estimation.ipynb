{
 "cells": [
  {
   "cell_type": "markdown",
   "metadata": {},
   "source": [
    "# Civic Project: Using Pluto data and Disclosure data for Local Law 84"
   ]
  },
  {
   "cell_type": "code",
   "execution_count": 120,
   "metadata": {
    "collapsed": false
   },
   "outputs": [
    {
     "name": "stdout",
     "output_type": "stream",
     "text": [
      "Populating the interactive namespace from numpy and matplotlib\n"
     ]
    },
    {
     "name": "stderr",
     "output_type": "stream",
     "text": [
      "WARNING: pylab import has clobbered these variables: ['mod']\n",
      "`%matplotlib` prevents importing * from pylab and numpy\n"
     ]
    }
   ],
   "source": [
    "import geopandas as gp\n",
    "import pandas as pd\n",
    "import numpy as np\n",
    "import statsmodels.formula.api as smf\n",
    "import statsmodels.api as sm\n",
    "import pylab as pl\n",
    "import math\n",
    "pl.style.use('ggplot')\n",
    "%pylab inline"
   ]
  },
  {
   "cell_type": "code",
   "execution_count": 2,
   "metadata": {
    "collapsed": true
   },
   "outputs": [],
   "source": [
    "# Read Brooklyn data, select relevant columns\n",
    "pluto_br = gp.read_file('Brooklyn/BKMapPLUTO.shp')\n",
    "pluto_br = pluto_br[['BBL','BldgArea', 'BldgClass', 'Block', 'Borough','ComArea','LandUse', 'LotArea', \n",
    "               'OfficeArea', 'OwnerType', 'ResArea', 'RetailArea','UnitsTotal','UnitsRes', 'YearBuilt',]]\n",
    "pluto_br = pluto_br[pluto_br['UnitsTotal']>0]"
   ]
  },
  {
   "cell_type": "code",
   "execution_count": 3,
   "metadata": {
    "collapsed": true
   },
   "outputs": [],
   "source": [
    "# Read Manhattan data, select relevant columns\n",
    "pluto_ma = gp.read_file('Manhattan/MNMapPLUTO.shp')\n",
    "pluto_ma = pluto_ma[['BBL','BldgArea', 'BldgClass', 'Block', 'Borough','ComArea','LandUse', 'LotArea', \n",
    "               'OfficeArea', 'OwnerType', 'ResArea', 'RetailArea','UnitsTotal','UnitsRes', 'YearBuilt',]]\n",
    "pluto_ma = pluto_ma[pluto_ma['UnitsTotal']>0]"
   ]
  },
  {
   "cell_type": "code",
   "execution_count": 4,
   "metadata": {
    "collapsed": false
   },
   "outputs": [],
   "source": [
    "# Compute possible predictors\n",
    "pluto_br['UnitsOffice'] = pluto_br['UnitsTotal'] - pluto_br['UnitsRes']\n",
    "pluto_ma['UnitsOffice'] = pluto_ma['UnitsTotal'] - pluto_ma['UnitsRes']"
   ]
  },
  {
   "cell_type": "code",
   "execution_count": 5,
   "metadata": {
    "collapsed": true
   },
   "outputs": [],
   "source": [
    "# Read disclosure data, select relevant columns\n",
    "energy = pd.read_csv('Energy_and_Water_Data_Disclosure_for_Local_Law_84__2013_.csv')\n",
    "energy['BBL'] = energy['NYC Borough, Block, and Lot (BBL)']\n",
    "energy = energy[['Borough','BBL','Zip Code','Site EUI(kBtu/ft2)','Weather Normalized Site EUI(kBtu/ft2)', \n",
    "                 'Source EUI(kBtu/ft2)','Weather Normalized Source EUI(kBtu/ft2)','ENERGY STAR Score',\n",
    "                 'Total GHG Emissions(MtCO2e)','Reported Property Floor Area (Building(s)) (ft²)']]"
   ]
  },
  {
   "cell_type": "code",
   "execution_count": 6,
   "metadata": {
    "collapsed": true
   },
   "outputs": [],
   "source": [
    "# Convert datatype of values in relevant columns to numeric\n",
    "energy['Site EUI(kBtu/ft2)'] = energy['Site EUI(kBtu/ft2)'].convert_objects(convert_numeric=True)\n",
    "energy['Total GHG Emissions(MtCO2e)'] = energy['Total GHG Emissions(MtCO2e)'].convert_objects(convert_numeric=True)\n",
    "energy['Reported Property Floor Area (Building(s)) (ft²)'] = energy['Reported Property Floor Area (Building(s)) (ft²)'].convert_objects(convert_numeric=True)\n",
    "energy['Weather Normalized Site EUI(kBtu/ft2)'] = energy['Weather Normalized Site EUI(kBtu/ft2)'].convert_objects(convert_numeric=True)\n",
    "energy['Source EUI(kBtu/ft2)'] = energy['Source EUI(kBtu/ft2)'].convert_objects(convert_numeric=True)\n",
    "energy['Weather Normalized Source EUI(kBtu/ft2)'] = energy['Weather Normalized Source EUI(kBtu/ft2)'].convert_objects(convert_numeric=True)\n",
    "energy['ENERGY STAR Score'] = energy['ENERGY STAR Score'].convert_objects(convert_numeric=True)"
   ]
  },
  {
   "cell_type": "code",
   "execution_count": 7,
   "metadata": {
    "collapsed": true
   },
   "outputs": [],
   "source": [
    "# Merge pluto data\n",
    "pluto = pluto_br.append(pluto_ma)"
   ]
  },
  {
   "cell_type": "code",
   "execution_count": 8,
   "metadata": {
    "collapsed": true
   },
   "outputs": [],
   "source": [
    "# Rename columns for future regression\n",
    "energy.rename(columns={'Site EUI(kBtu/ft2)':'EUI','Weather Normalized Site EUI(kBtu/ft2)':'NormEUI',\n",
    "                     'Source EUI(kBtu/ft2)':'SourceEUI','Weather Normalized Source EUI(kBtu/ft2)':'NormSourceEUI',\n",
    "                     'Total GHG Emissions(MtCO2e)':'GHG',\n",
    "                     'Reported Property Floor Area (Building(s)) (ft²)':'FloorArea'},inplace=True)"
   ]
  },
  {
   "cell_type": "code",
   "execution_count": 9,
   "metadata": {
    "collapsed": false
   },
   "outputs": [],
   "source": [
    "# Delete impossible observations\n",
    "pluto = pluto[pluto['UnitsTotal']>0]\n",
    "energy = energy[(energy['EUI']>0) & (energy['GHG']>0)]    "
   ]
  },
  {
   "cell_type": "code",
   "execution_count": 10,
   "metadata": {
    "collapsed": true
   },
   "outputs": [],
   "source": [
    "# Compute possible predictors\n",
    "pluto['TotalArea'] = pluto['ComArea'] + pluto['OfficeArea'] + pluto['ResArea'] + pluto['RetailArea']  "
   ]
  },
  {
   "cell_type": "code",
   "execution_count": 11,
   "metadata": {
    "collapsed": true
   },
   "outputs": [],
   "source": [
    "# Merge dataset\n",
    "data = pd.merge(pluto, energy, on='BBL', how='inner')"
   ]
  },
  {
   "cell_type": "code",
   "execution_count": 240,
   "metadata": {
    "collapsed": true
   },
   "outputs": [],
   "source": [
    "# Add 1 to the following column values in order to exercise logarithmic transformation later on\n",
    "k = ['FloorArea','OfficeArea','ResArea','ComArea','RetailArea']\n",
    "for i in k:\n",
    "    data.ix[data[i] == 0] = 1 "
   ]
  },
  {
   "cell_type": "code",
   "execution_count": 13,
   "metadata": {
    "collapsed": true
   },
   "outputs": [
    {
     "name": "stdout",
     "output_type": "stream",
     "text": [
      "<class 'pandas.core.frame.DataFrame'>\n",
      "Int64Index: 7081 entries, 0 to 7080\n",
      "Data columns (total 26 columns):\n",
      "BBL                  7081 non-null float64\n",
      "BldgArea             7081 non-null int64\n",
      "BldgClass            7081 non-null object\n",
      "Block                7081 non-null int64\n",
      "Borough_x            7081 non-null object\n",
      "ComArea              7081 non-null int64\n",
      "LandUse              7080 non-null object\n",
      "LotArea              7081 non-null int64\n",
      "OfficeArea           7081 non-null int64\n",
      "OwnerType            2729 non-null object\n",
      "ResArea              7081 non-null int64\n",
      "RetailArea           7081 non-null int64\n",
      "UnitsTotal           7081 non-null int64\n",
      "UnitsRes             7081 non-null int64\n",
      "YearBuilt            7081 non-null int64\n",
      "UnitsOffice          7081 non-null int64\n",
      "TotalArea            7081 non-null int64\n",
      "Borough_y            7081 non-null object\n",
      "Zip Code             6579 non-null float64\n",
      "EUI                  7081 non-null float64\n",
      "NormEUI              6105 non-null float64\n",
      "SourceEUI            7081 non-null float64\n",
      "NormSourceEUI        6105 non-null float64\n",
      "ENERGY STAR Score    1424 non-null float64\n",
      "GHG                  7081 non-null float64\n",
      "FloorArea            7073 non-null float64\n",
      "dtypes: float64(9), int64(12), object(5)\n",
      "memory usage: 1.5+ MB\n"
     ]
    }
   ],
   "source": [
    "data.info()"
   ]
  },
  {
   "cell_type": "code",
   "execution_count": 14,
   "metadata": {
    "collapsed": true
   },
   "outputs": [
    {
     "name": "stdout",
     "output_type": "stream",
     "text": [
      "<class 'pandas.core.frame.DataFrame'>\n",
      "Int64Index: 1267 entries, 4 to 7059\n",
      "Data columns (total 26 columns):\n",
      "BBL                  1267 non-null float64\n",
      "BldgArea             1267 non-null int64\n",
      "BldgClass            1267 non-null object\n",
      "Block                1267 non-null int64\n",
      "Borough_x            1267 non-null object\n",
      "ComArea              1267 non-null int64\n",
      "LandUse              1267 non-null object\n",
      "LotArea              1267 non-null int64\n",
      "OfficeArea           1267 non-null int64\n",
      "OwnerType            645 non-null object\n",
      "ResArea              1267 non-null int64\n",
      "RetailArea           1267 non-null int64\n",
      "UnitsTotal           1267 non-null int64\n",
      "UnitsRes             1267 non-null int64\n",
      "YearBuilt            1267 non-null int64\n",
      "UnitsOffice          1267 non-null int64\n",
      "TotalArea            1267 non-null int64\n",
      "Borough_y            1267 non-null object\n",
      "Zip Code             1132 non-null float64\n",
      "EUI                  1267 non-null float64\n",
      "NormEUI              1026 non-null float64\n",
      "SourceEUI            1267 non-null float64\n",
      "NormSourceEUI        1026 non-null float64\n",
      "ENERGY STAR Score    1018 non-null float64\n",
      "GHG                  1267 non-null float64\n",
      "FloorArea            1259 non-null float64\n",
      "dtypes: float64(9), int64(12), object(5)\n",
      "memory usage: 267.3+ KB\n"
     ]
    }
   ],
   "source": [
    "# Select only Office Building based on land use 05\n",
    "data05 = data[data['LandUse']=='05']\n",
    "data05.info()"
   ]
  },
  {
   "cell_type": "code",
   "execution_count": 245,
   "metadata": {
    "collapsed": true
   },
   "outputs": [
    {
     "name": "stdout",
     "output_type": "stream",
     "text": [
      "<class 'pandas.core.frame.DataFrame'>\n",
      "Int64Index: 347 entries, 25 to 7073\n",
      "Data columns (total 26 columns):\n",
      "BBL                  347 non-null float64\n",
      "BldgArea             347 non-null int64\n",
      "BldgClass            347 non-null object\n",
      "Block                347 non-null int64\n",
      "Borough_x            347 non-null object\n",
      "ComArea              347 non-null int64\n",
      "LandUse              347 non-null object\n",
      "LotArea              347 non-null int64\n",
      "OfficeArea           347 non-null int64\n",
      "OwnerType            291 non-null object\n",
      "ResArea              347 non-null int64\n",
      "RetailArea           347 non-null int64\n",
      "UnitsTotal           347 non-null int64\n",
      "UnitsRes             347 non-null int64\n",
      "YearBuilt            347 non-null int64\n",
      "UnitsOffice          347 non-null int64\n",
      "TotalArea            347 non-null int64\n",
      "Borough_y            347 non-null object\n",
      "Zip Code             300 non-null float64\n",
      "EUI                  347 non-null float64\n",
      "NormEUI              275 non-null float64\n",
      "SourceEUI            347 non-null float64\n",
      "NormSourceEUI        275 non-null float64\n",
      "ENERGY STAR Score    182 non-null float64\n",
      "GHG                  347 non-null float64\n",
      "FloorArea            347 non-null float64\n",
      "dtypes: float64(9), int64(12), object(5)\n",
      "memory usage: 73.2+ KB\n"
     ]
    }
   ],
   "source": [
    "# Select only Public Facilities and Institutions based on land use 08\n",
    "data08 = data[data['LandUse']=='08']\n",
    "data08.info()"
   ]
  },
  {
   "cell_type": "markdown",
   "metadata": {},
   "source": [
    "# Predictions"
   ]
  },
  {
   "cell_type": "markdown",
   "metadata": {},
   "source": [
    "#### For office buildings. EUI on Floor Area, since Retail Area is not significant."
   ]
  },
  {
   "cell_type": "code",
   "execution_count": 138,
   "metadata": {
    "collapsed": false
   },
   "outputs": [
    {
     "name": "stdout",
     "output_type": "stream",
     "text": [
      "                              OLS Regression Results                             \n",
      "=================================================================================\n",
      "Dep. Variable:     np.log(NormSourceEUI)   R-squared:                       0.004\n",
      "Model:                               OLS   Adj. R-squared:                  0.003\n",
      "Method:                    Least Squares   F-statistic:                     3.941\n",
      "Date:                   Wed, 28 Oct 2015   Prob (F-statistic):             0.0474\n",
      "Time:                           22:38:30   Log-Likelihood:                -1270.5\n",
      "No. Observations:                   1018   AIC:                             2545.\n",
      "Df Residuals:                       1016   BIC:                             2555.\n",
      "Df Model:                              1                                         \n",
      "Covariance Type:               nonrobust                                         \n",
      "=====================================================================================\n",
      "                        coef    std err          t      P>|t|      [95.0% Conf. Int.]\n",
      "-------------------------------------------------------------------------------------\n",
      "Intercept             4.7253      0.317     14.889      0.000         4.102     5.348\n",
      "np.log(FloorArea)     0.0514      0.026      1.985      0.047         0.001     0.102\n",
      "==============================================================================\n",
      "Omnibus:                      664.971   Durbin-Watson:                   1.960\n",
      "Prob(Omnibus):                  0.000   Jarque-Bera (JB):            25509.286\n",
      "Skew:                           2.427   Prob(JB):                         0.00\n",
      "Kurtosis:                      27.038   Cond. No.                         148.\n",
      "==============================================================================\n",
      "\n",
      "Warnings:\n",
      "[1] Standard Errors assume that the covariance matrix of the errors is correctly specified.\n"
     ]
    }
   ],
   "source": [
    "model = smf.ols('np.log(NormSourceEUI) ~ np.log(FloorArea)', data=data05, missing='drop').fit()\n",
    "print model.summary()"
   ]
  },
  {
   "cell_type": "markdown",
   "metadata": {},
   "source": [
    "#### For all building types. EUI on Office Area and Retail Area."
   ]
  },
  {
   "cell_type": "code",
   "execution_count": 248,
   "metadata": {
    "collapsed": false
   },
   "outputs": [
    {
     "name": "stdout",
     "output_type": "stream",
     "text": [
      "                              OLS Regression Results                             \n",
      "=================================================================================\n",
      "Dep. Variable:     np.log(NormSourceEUI)   R-squared:                       0.052\n",
      "Model:                               OLS   Adj. R-squared:                  0.052\n",
      "Method:                    Least Squares   F-statistic:                     167.9\n",
      "Date:                   Thu, 29 Oct 2015   Prob (F-statistic):           1.03e-71\n",
      "Time:                           10:21:33   Log-Likelihood:                -7251.6\n",
      "No. Observations:                   6105   AIC:                         1.451e+04\n",
      "Df Residuals:                       6102   BIC:                         1.453e+04\n",
      "Df Model:                              2                                         \n",
      "Covariance Type:               nonrobust                                         \n",
      "======================================================================================\n",
      "                         coef    std err          t      P>|t|      [95.0% Conf. Int.]\n",
      "--------------------------------------------------------------------------------------\n",
      "Intercept              4.7522      0.014    344.257      0.000         4.725     4.779\n",
      "np.log(OfficeArea)     0.0218      0.002      9.774      0.000         0.017     0.026\n",
      "np.log(RetailArea)     0.0280      0.002     11.984      0.000         0.023     0.033\n",
      "==============================================================================\n",
      "Omnibus:                     4673.395   Durbin-Watson:                   1.908\n",
      "Prob(Omnibus):                  0.000   Jarque-Bera (JB):           409428.385\n",
      "Skew:                           3.004   Prob(JB):                         0.00\n",
      "Kurtosis:                      42.667   Cond. No.                         9.77\n",
      "==============================================================================\n",
      "\n",
      "Warnings:\n",
      "[1] Standard Errors assume that the covariance matrix of the errors is correctly specified.\n"
     ]
    }
   ],
   "source": [
    "model1 = smf.ols('np.log(NormSourceEUI) ~ np.log(OfficeArea) + np.log(RetailArea) ', data=data, missing='drop').fit()\n",
    "print model1.summary()"
   ]
  },
  {
   "cell_type": "markdown",
   "metadata": {},
   "source": [
    "#### For Institutions. EUI on Office Area and Retail Area. Not significant."
   ]
  },
  {
   "cell_type": "code",
   "execution_count": 249,
   "metadata": {
    "collapsed": true
   },
   "outputs": [
    {
     "name": "stdout",
     "output_type": "stream",
     "text": [
      "                              OLS Regression Results                             \n",
      "=================================================================================\n",
      "Dep. Variable:     np.log(NormSourceEUI)   R-squared:                       0.007\n",
      "Model:                               OLS   Adj. R-squared:                 -0.000\n",
      "Method:                    Least Squares   F-statistic:                    0.9407\n",
      "Date:                   Thu, 29 Oct 2015   Prob (F-statistic):              0.392\n",
      "Time:                           10:21:52   Log-Likelihood:                -500.76\n",
      "No. Observations:                    275   AIC:                             1008.\n",
      "Df Residuals:                        272   BIC:                             1018.\n",
      "Df Model:                              2                                         \n",
      "Covariance Type:               nonrobust                                         \n",
      "======================================================================================\n",
      "                         coef    std err          t      P>|t|      [95.0% Conf. Int.]\n",
      "--------------------------------------------------------------------------------------\n",
      "Intercept              5.3151      0.105     50.635      0.000         5.108     5.522\n",
      "np.log(OfficeArea)     0.0214      0.020      1.061      0.290        -0.018     0.061\n",
      "np.log(RetailArea)    -0.0338      0.036     -0.951      0.343        -0.104     0.036\n",
      "==============================================================================\n",
      "Omnibus:                      145.688   Durbin-Watson:                   1.805\n",
      "Prob(Omnibus):                  0.000   Jarque-Bera (JB):             1993.219\n",
      "Skew:                           1.782   Prob(JB):                         0.00\n",
      "Kurtosis:                      15.699   Cond. No.                         5.98\n",
      "==============================================================================\n",
      "\n",
      "Warnings:\n",
      "[1] Standard Errors assume that the covariance matrix of the errors is correctly specified.\n"
     ]
    }
   ],
   "source": [
    "model2 = smf.ols('np.log(NormSourceEUI) ~ np.log(OfficeArea) + np.log(RetailArea) ', data=data08, missing='drop').fit()\n",
    "print model2.summary()"
   ]
  },
  {
   "cell_type": "markdown",
   "metadata": {},
   "source": [
    "#### For Institutions types. EUI on Floor Area. Not significant."
   ]
  },
  {
   "cell_type": "code",
   "execution_count": 259,
   "metadata": {
    "collapsed": true
   },
   "outputs": [
    {
     "name": "stdout",
     "output_type": "stream",
     "text": [
      "                              OLS Regression Results                             \n",
      "=================================================================================\n",
      "Dep. Variable:     np.log(NormSourceEUI)   R-squared:                       0.001\n",
      "Model:                               OLS   Adj. R-squared:                 -0.002\n",
      "Method:                    Least Squares   F-statistic:                    0.3752\n",
      "Date:                   Thu, 29 Oct 2015   Prob (F-statistic):              0.541\n",
      "Time:                           10:26:44   Log-Likelihood:                -501.52\n",
      "No. Observations:                    275   AIC:                             1007.\n",
      "Df Residuals:                        273   BIC:                             1014.\n",
      "Df Model:                              1                                         \n",
      "Covariance Type:               nonrobust                                         \n",
      "=====================================================================================\n",
      "                        coef    std err          t      P>|t|      [95.0% Conf. Int.]\n",
      "-------------------------------------------------------------------------------------\n",
      "Intercept             6.1357      1.306      4.699      0.000         3.565     8.706\n",
      "np.log(FloorArea)    -0.0680      0.111     -0.613      0.541        -0.287     0.151\n",
      "==============================================================================\n",
      "Omnibus:                      145.112   Durbin-Watson:                   1.783\n",
      "Prob(Omnibus):                  0.000   Jarque-Bera (JB):             1892.775\n",
      "Skew:                           1.790   Prob(JB):                         0.00\n",
      "Kurtosis:                      15.344   Cond. No.                         170.\n",
      "==============================================================================\n",
      "\n",
      "Warnings:\n",
      "[1] Standard Errors assume that the covariance matrix of the errors is correctly specified.\n"
     ]
    }
   ],
   "source": [
    "model3 = smf.ols('np.log(NormSourceEUI) ~ np.log(FloorArea)', data=data08, missing='drop').fit()\n",
    "print model3.summary()"
   ]
  },
  {
   "cell_type": "markdown",
   "metadata": {},
   "source": [
    "#### For office buildings. EUI on number of total units. Even though not relevant."
   ]
  },
  {
   "cell_type": "code",
   "execution_count": 139,
   "metadata": {
    "collapsed": true
   },
   "outputs": [
    {
     "name": "stdout",
     "output_type": "stream",
     "text": [
      "                              OLS Regression Results                             \n",
      "=================================================================================\n",
      "Dep. Variable:     np.log(NormSourceEUI)   R-squared:                       0.017\n",
      "Model:                               OLS   Adj. R-squared:                  0.016\n",
      "Method:                    Least Squares   F-statistic:                     17.24\n",
      "Date:                   Wed, 28 Oct 2015   Prob (F-statistic):           3.57e-05\n",
      "Time:                           22:38:38   Log-Likelihood:                -1270.8\n",
      "No. Observations:                   1026   AIC:                             2546.\n",
      "Df Residuals:                       1024   BIC:                             2555.\n",
      "Df Model:                              1                                         \n",
      "Covariance Type:               nonrobust                                         \n",
      "======================================================================================\n",
      "                         coef    std err          t      P>|t|      [95.0% Conf. Int.]\n",
      "--------------------------------------------------------------------------------------\n",
      "Intercept              5.5068      0.045    121.201      0.000         5.418     5.596\n",
      "np.log(UnitsTotal)    -0.0649      0.016     -4.152      0.000        -0.096    -0.034\n",
      "==============================================================================\n",
      "Omnibus:                      656.030   Durbin-Watson:                   1.950\n",
      "Prob(Omnibus):                  0.000   Jarque-Bera (JB):            26619.076\n",
      "Skew:                           2.331   Prob(JB):                         0.00\n",
      "Kurtosis:                      27.514   Cond. No.                         5.48\n",
      "==============================================================================\n",
      "\n",
      "Warnings:\n",
      "[1] Standard Errors assume that the covariance matrix of the errors is correctly specified.\n"
     ]
    }
   ],
   "source": [
    "model4 = smf.ols('np.log(NormSourceEUI) ~ np.log(UnitsTotal)', data=data05, missing='drop').fit()\n",
    "print model4.summary()"
   ]
  },
  {
   "cell_type": "markdown",
   "metadata": {},
   "source": [
    "#### For office buildings. EUI on number of office units. Even though not relevant."
   ]
  },
  {
   "cell_type": "code",
   "execution_count": 247,
   "metadata": {
    "collapsed": true
   },
   "outputs": [
    {
     "name": "stdout",
     "output_type": "stream",
     "text": [
      "                              OLS Regression Results                             \n",
      "=================================================================================\n",
      "Dep. Variable:     np.log(NormSourceEUI)   R-squared:                       0.014\n",
      "Model:                               OLS   Adj. R-squared:                  0.013\n",
      "Method:                    Least Squares   F-statistic:                     14.70\n",
      "Date:                   Thu, 29 Oct 2015   Prob (F-statistic):           0.000134\n",
      "Time:                           10:19:48   Log-Likelihood:                -1272.1\n",
      "No. Observations:                   1026   AIC:                             2548.\n",
      "Df Residuals:                       1024   BIC:                             2558.\n",
      "Df Model:                              1                                         \n",
      "Covariance Type:               nonrobust                                         \n",
      "=======================================================================================\n",
      "                          coef    std err          t      P>|t|      [95.0% Conf. Int.]\n",
      "---------------------------------------------------------------------------------------\n",
      "Intercept               5.4927      0.045    122.139      0.000         5.404     5.581\n",
      "np.log(UnitsOffice)    -0.0604      0.016     -3.834      0.000        -0.091    -0.029\n",
      "==============================================================================\n",
      "Omnibus:                      656.072   Durbin-Watson:                   1.953\n",
      "Prob(Omnibus):                  0.000   Jarque-Bera (JB):            26535.382\n",
      "Skew:                           2.332   Prob(JB):                         0.00\n",
      "Kurtosis:                      27.474   Cond. No.                         5.33\n",
      "==============================================================================\n",
      "\n",
      "Warnings:\n",
      "[1] Standard Errors assume that the covariance matrix of the errors is correctly specified.\n"
     ]
    }
   ],
   "source": [
    "model5 = smf.ols('np.log(NormSourceEUI) ~ np.log(UnitsOffice)', data=data05, missing='drop').fit()\n",
    "print model5.summary()"
   ]
  },
  {
   "cell_type": "markdown",
   "metadata": {},
   "source": [
    "# Actual Predictions based on best models"
   ]
  },
  {
   "cell_type": "markdown",
   "metadata": {},
   "source": [
    "#### For office buildings. EUI on Floor Area."
   ]
  },
  {
   "cell_type": "code",
   "execution_count": 142,
   "metadata": {
    "collapsed": false
   },
   "outputs": [
    {
     "name": "stdout",
     "output_type": "stream",
     "text": [
      "Predicted EUI: 220.475253456\n"
     ]
    }
   ],
   "source": [
    "# Predict EUI of 370 Jay Street based on model:\n",
    "y = model.params[0] + model.params[1]*np.log(460000)\n",
    "print 'Predicted EUI:', math.exp(y)"
   ]
  },
  {
   "cell_type": "code",
   "execution_count": 143,
   "metadata": {
    "collapsed": false
   },
   "outputs": [
    {
     "data": {
      "text/plain": [
       "count       7073.000000\n",
       "mean      187321.349215\n",
       "std       302952.057492\n",
       "min          500.000000\n",
       "25%        68402.000000\n",
       "50%       102053.000000\n",
       "75%       182980.000000\n",
       "max      9515627.000000\n",
       "Name: FloorArea, dtype: float64"
      ]
     },
     "execution_count": 143,
     "metadata": {},
     "output_type": "execute_result"
    }
   ],
   "source": [
    "data.FloorArea.describe()"
   ]
  },
  {
   "cell_type": "markdown",
   "metadata": {},
   "source": [
    "#### For all building types. EUI on Floor Area."
   ]
  },
  {
   "cell_type": "code",
   "execution_count": 144,
   "metadata": {
    "collapsed": false
   },
   "outputs": [
    {
     "name": "stdout",
     "output_type": "stream",
     "text": [
      "Predicted EUI: 158.618713829\n"
     ]
    }
   ],
   "source": [
    "# Predict EUI of 370 Jay Street based on model:\n",
    "y = model3.params[0] + model3.params[1]*np.log(460000)\n",
    "print 'Predicted EUI:', math.exp(y)"
   ]
  },
  {
   "cell_type": "markdown",
   "metadata": {},
   "source": [
    "# Clean dataset further\n",
    "#### Getting rid of potential outliers"
   ]
  },
  {
   "cell_type": "code",
   "execution_count": 21,
   "metadata": {
    "collapsed": true
   },
   "outputs": [],
   "source": [
    "data_clean = data[(data.FloorArea>1000) & (data.UnitsTotal >= 10) & (data.UnitsTotal < 1000)]"
   ]
  },
  {
   "cell_type": "code",
   "execution_count": 22,
   "metadata": {
    "collapsed": true
   },
   "outputs": [
    {
     "name": "stdout",
     "output_type": "stream",
     "text": [
      "<class 'pandas.core.frame.DataFrame'>\n",
      "Int64Index: 753 entries, 4 to 7059\n",
      "Data columns (total 26 columns):\n",
      "BBL                  753 non-null float64\n",
      "BldgArea             753 non-null int64\n",
      "BldgClass            753 non-null object\n",
      "Block                753 non-null int64\n",
      "Borough_x            753 non-null object\n",
      "ComArea              753 non-null int64\n",
      "LandUse              753 non-null object\n",
      "LotArea              753 non-null int64\n",
      "OfficeArea           753 non-null int64\n",
      "OwnerType            390 non-null object\n",
      "ResArea              753 non-null int64\n",
      "RetailArea           753 non-null int64\n",
      "UnitsTotal           753 non-null int64\n",
      "UnitsRes             753 non-null int64\n",
      "YearBuilt            753 non-null int64\n",
      "UnitsOffice          753 non-null int64\n",
      "TotalArea            753 non-null int64\n",
      "Borough_y            753 non-null object\n",
      "Zip Code             685 non-null float64\n",
      "EUI                  753 non-null float64\n",
      "NormEUI              575 non-null float64\n",
      "SourceEUI            753 non-null float64\n",
      "NormSourceEUI        575 non-null float64\n",
      "ENERGY STAR Score    631 non-null float64\n",
      "GHG                  753 non-null float64\n",
      "FloorArea            753 non-null float64\n",
      "dtypes: float64(9), int64(12), object(5)\n",
      "memory usage: 158.8+ KB\n"
     ]
    }
   ],
   "source": [
    "data05_clean = data_clean[data_clean['LandUse']=='05']\n",
    "data05_clean.info()"
   ]
  },
  {
   "cell_type": "code",
   "execution_count": 145,
   "metadata": {
    "collapsed": false
   },
   "outputs": [
    {
     "name": "stdout",
     "output_type": "stream",
     "text": [
      "                              OLS Regression Results                             \n",
      "=================================================================================\n",
      "Dep. Variable:     np.log(NormSourceEUI)   R-squared:                       0.045\n",
      "Model:                               OLS   Adj. R-squared:                  0.044\n",
      "Method:                    Least Squares   F-statistic:                     27.23\n",
      "Date:                   Wed, 28 Oct 2015   Prob (F-statistic):           2.53e-07\n",
      "Time:                           22:43:24   Log-Likelihood:                -600.68\n",
      "No. Observations:                    575   AIC:                             1205.\n",
      "Df Residuals:                        573   BIC:                             1214.\n",
      "Df Model:                              1                                         \n",
      "Covariance Type:               nonrobust                                         \n",
      "=====================================================================================\n",
      "                        coef    std err          t      P>|t|      [95.0% Conf. Int.]\n",
      "-------------------------------------------------------------------------------------\n",
      "Intercept             3.3459      0.365      9.173      0.000         2.629     4.062\n",
      "np.log(FloorArea)     0.1545      0.030      5.218      0.000         0.096     0.213\n",
      "==============================================================================\n",
      "Omnibus:                      426.169   Durbin-Watson:                   2.053\n",
      "Prob(Omnibus):                  0.000   Jarque-Bera (JB):            20043.105\n",
      "Skew:                           2.720   Prob(JB):                         0.00\n",
      "Kurtosis:                      31.408   Cond. No.                         157.\n",
      "==============================================================================\n",
      "\n",
      "Warnings:\n",
      "[1] Standard Errors assume that the covariance matrix of the errors is correctly specified.\n"
     ]
    }
   ],
   "source": [
    "model_clean = smf.ols('np.log(NormSourceEUI) ~ np.log(FloorArea)', data=data05_clean, missing='drop').fit()\n",
    "print model_clean.summary()"
   ]
  },
  {
   "cell_type": "markdown",
   "metadata": {},
   "source": [
    "#### Model improved considerably."
   ]
  },
  {
   "cell_type": "code",
   "execution_count": 146,
   "metadata": {
    "collapsed": true
   },
   "outputs": [
    {
     "name": "stdout",
     "output_type": "stream",
     "text": [
      "                              OLS Regression Results                             \n",
      "=================================================================================\n",
      "Dep. Variable:     np.log(NormSourceEUI)   R-squared:                       0.000\n",
      "Model:                               OLS   Adj. R-squared:                 -0.001\n",
      "Method:                    Least Squares   F-statistic:                    0.2114\n",
      "Date:                   Wed, 28 Oct 2015   Prob (F-statistic):              0.646\n",
      "Time:                           22:43:39   Log-Likelihood:                -613.93\n",
      "No. Observations:                    575   AIC:                             1232.\n",
      "Df Residuals:                        573   BIC:                             1241.\n",
      "Df Model:                              1                                         \n",
      "Covariance Type:               nonrobust                                         \n",
      "======================================================================================\n",
      "                         coef    std err          t      P>|t|      [95.0% Conf. Int.]\n",
      "--------------------------------------------------------------------------------------\n",
      "Intercept              5.1885      0.123     42.248      0.000         4.947     5.430\n",
      "np.log(UnitsTotal)     0.0151      0.033      0.460      0.646        -0.050     0.080\n",
      "==============================================================================\n",
      "Omnibus:                      410.854   Durbin-Watson:                   2.039\n",
      "Prob(Omnibus):                  0.000   Jarque-Bera (JB):            18469.886\n",
      "Skew:                           2.581   Prob(JB):                         0.00\n",
      "Kurtosis:                      30.281   Cond. No.                         16.6\n",
      "==============================================================================\n",
      "\n",
      "Warnings:\n",
      "[1] Standard Errors assume that the covariance matrix of the errors is correctly specified.\n"
     ]
    }
   ],
   "source": [
    "model_clean1 = smf.ols('np.log(NormSourceEUI) ~ np.log(UnitsTotal)', data=data05_clean, missing='drop').fit()\n",
    "print model_clean1.summary()"
   ]
  },
  {
   "cell_type": "markdown",
   "metadata": {},
   "source": [
    "#### This model is not relevant"
   ]
  },
  {
   "cell_type": "code",
   "execution_count": 156,
   "metadata": {
    "collapsed": true
   },
   "outputs": [
    {
     "name": "stdout",
     "output_type": "stream",
     "text": [
      "                              OLS Regression Results                             \n",
      "=================================================================================\n",
      "Dep. Variable:     np.log(NormSourceEUI)   R-squared:                       0.003\n",
      "Model:                               OLS   Adj. R-squared:                 -0.000\n",
      "Method:                    Least Squares   F-statistic:                    0.9697\n",
      "Date:                   Wed, 28 Oct 2015   Prob (F-statistic):              0.380\n",
      "Time:                           22:50:25   Log-Likelihood:                -613.06\n",
      "No. Observations:                    575   AIC:                             1232.\n",
      "Df Residuals:                        572   BIC:                             1245.\n",
      "Df Model:                              2                                         \n",
      "Covariance Type:               nonrobust                                         \n",
      "==========================================================================================\n",
      "                             coef    std err          t      P>|t|      [95.0% Conf. Int.]\n",
      "------------------------------------------------------------------------------------------\n",
      "Intercept                  5.0910      0.113     44.943      0.000         4.869     5.313\n",
      "np.log(RetailArea + 1)     0.0079      0.010      0.787      0.432        -0.012     0.028\n",
      "np.log(OfficeArea)         0.0076      0.008      0.906      0.365        -0.009     0.024\n",
      "==============================================================================\n",
      "Omnibus:                      409.920   Durbin-Watson:                   2.048\n",
      "Prob(Omnibus):                  0.000   Jarque-Bera (JB):            18172.263\n",
      "Skew:                           2.577   Prob(JB):                         0.00\n",
      "Kurtosis:                      30.054   Cond. No.                         56.1\n",
      "==============================================================================\n",
      "\n",
      "Warnings:\n",
      "[1] Standard Errors assume that the covariance matrix of the errors is correctly specified.\n"
     ]
    }
   ],
   "source": [
    "model_clean2 = smf.ols('np.log(NormSourceEUI) ~ np.log(RetailArea+1) + np.log(OfficeArea)', data=data05_clean, missing='drop').fit()\n",
    "print model_clean2.summary()"
   ]
  },
  {
   "cell_type": "markdown",
   "metadata": {},
   "source": [
    "#### Retail and office area is not significant"
   ]
  },
  {
   "cell_type": "markdown",
   "metadata": {},
   "source": [
    "# Actual Predictions based on best models. Clean Dataset.\n",
    "Based on floor area for office buildings, deleting leverage points and outliers."
   ]
  },
  {
   "cell_type": "code",
   "execution_count": 198,
   "metadata": {
    "collapsed": false
   },
   "outputs": [
    {
     "name": "stdout",
     "output_type": "stream",
     "text": [
      "Predicted EUI: 212.738953122\n"
     ]
    }
   ],
   "source": [
    "y_clean = model_clean.params[0] + model_clean.params[1]*np.log(460000)\n",
    "eui = math.exp(y_clean)\n",
    "print 'Predicted EUI:', eui"
   ]
  },
  {
   "cell_type": "markdown",
   "metadata": {},
   "source": [
    "# Just educational buildings\n",
    "W5 = City University\n",
    "W6 = Other Colleges and Universities"
   ]
  },
  {
   "cell_type": "code",
   "execution_count": 67,
   "metadata": {
    "collapsed": true
   },
   "outputs": [],
   "source": [
    "dataO = data[(data['BldgClass']=='W5') | (data['BldgClass']=='W6')]"
   ]
  },
  {
   "cell_type": "code",
   "execution_count": 161,
   "metadata": {
    "collapsed": true
   },
   "outputs": [
    {
     "name": "stdout",
     "output_type": "stream",
     "text": [
      "                              OLS Regression Results                             \n",
      "=================================================================================\n",
      "Dep. Variable:     np.log(NormSourceEUI)   R-squared:                       0.000\n",
      "Model:                               OLS   Adj. R-squared:                 -0.022\n",
      "Method:                    Least Squares   F-statistic:                   0.01221\n",
      "Date:                   Wed, 28 Oct 2015   Prob (F-statistic):              0.913\n",
      "Time:                           22:55:13   Log-Likelihood:                -93.316\n",
      "No. Observations:                     46   AIC:                             190.6\n",
      "Df Residuals:                         44   BIC:                             194.3\n",
      "Df Model:                              1                                         \n",
      "Covariance Type:               nonrobust                                         \n",
      "=====================================================================================\n",
      "                        coef    std err          t      P>|t|      [95.0% Conf. Int.]\n",
      "-------------------------------------------------------------------------------------\n",
      "Intercept             4.3195      3.982      1.085      0.284        -3.705    12.344\n",
      "np.log(FloorArea)     0.0376      0.340      0.111      0.913        -0.648     0.723\n",
      "==============================================================================\n",
      "Omnibus:                       16.306   Durbin-Watson:                   1.762\n",
      "Prob(Omnibus):                  0.000   Jarque-Bera (JB):               59.467\n",
      "Skew:                           0.532   Prob(JB):                     1.22e-13\n",
      "Kurtosis:                       8.468   Cond. No.                         169.\n",
      "==============================================================================\n",
      "\n",
      "Warnings:\n",
      "[1] Standard Errors assume that the covariance matrix of the errors is correctly specified.\n",
      "Predicted Norm Source EUI: 122.658136578\n"
     ]
    }
   ],
   "source": [
    "mod = smf.ols('np.log(NormSourceEUI) ~ np.log(FloorArea)', data=dataO, missing='drop').fit()\n",
    "print mod.summary()\n",
    "detail = mod.params[0] + mod.params[1]*np.log(460000)\n",
    "print 'Predicted Norm Source EUI:', math.exp(detail)"
   ]
  },
  {
   "cell_type": "markdown",
   "metadata": {},
   "source": [
    "## ***Appendix: Estimation Approach 1***"
   ]
  },
  {
   "cell_type": "code",
   "execution_count": 150,
   "metadata": {
    "collapsed": false
   },
   "outputs": [
    {
     "data": {
      "text/plain": [
       "count    631.000000\n",
       "mean      70.824089\n",
       "std       20.913483\n",
       "min        1.000000\n",
       "25%       60.000000\n",
       "50%       76.000000\n",
       "75%       87.000000\n",
       "max      100.000000\n",
       "Name: ENERGY STAR Score, dtype: float64"
      ]
     },
     "execution_count": 150,
     "metadata": {},
     "output_type": "execute_result"
    }
   ],
   "source": [
    "data05_clean['ENERGY STAR Score'].describe()"
   ]
  },
  {
   "cell_type": "code",
   "execution_count": 160,
   "metadata": {
    "collapsed": false
   },
   "outputs": [
    {
     "data": {
      "text/plain": [
       "count      9.000000\n",
       "mean     239.866667\n",
       "std       72.027668\n",
       "min       65.300000\n",
       "25%      240.600000\n",
       "50%      245.500000\n",
       "75%      275.500000\n",
       "max      315.000000\n",
       "Name: NormSourceEUI, dtype: float64"
      ]
     },
     "execution_count": 160,
     "metadata": {},
     "output_type": "execute_result"
    }
   ],
   "source": [
    "# LEED Silver is equivalent to at least an ENERGY STAR Score of 50\n",
    "summary = data[data['ENERGY STAR Score']==50]\n",
    "summary.describe()['NormSourceEUI']"
   ]
  },
  {
   "cell_type": "code",
   "execution_count": 98,
   "metadata": {
    "collapsed": false
   },
   "outputs": [
    {
     "data": {
      "text/plain": [
       "count      5.000000\n",
       "mean     257.240000\n",
       "std       22.772637\n",
       "min      240.600000\n",
       "25%      245.400000\n",
       "50%      245.500000\n",
       "75%      258.500000\n",
       "max      296.200000\n",
       "Name: NormSourceEUI, dtype: float64"
      ]
     },
     "execution_count": 98,
     "metadata": {},
     "output_type": "execute_result"
    }
   ],
   "source": [
    "# Same for cleaned dataset\n",
    "summary_clean = data05_clean[data05_clean['ENERGY STAR Score']==50]\n",
    "summary_clean.describe()['NormSourceEUI']"
   ]
  },
  {
   "cell_type": "markdown",
   "metadata": {},
   "source": [
    "As it turns out, the regression is not significant."
   ]
  },
  {
   "cell_type": "markdown",
   "metadata": {},
   "source": [
    "## Estimating Greenhouse Gas Emissions (Total GHG Emissions)"
   ]
  },
  {
   "cell_type": "code",
   "execution_count": 298,
   "metadata": {
    "collapsed": false
   },
   "outputs": [
    {
     "name": "stdout",
     "output_type": "stream",
     "text": [
      "                            OLS Regression Results                            \n",
      "==============================================================================\n",
      "Dep. Variable:            np.log(GHG)   R-squared:                       0.488\n",
      "Model:                            OLS   Adj. R-squared:                  0.487\n",
      "Method:                 Least Squares   F-statistic:                     546.1\n",
      "Date:                Thu, 29 Oct 2015   Prob (F-statistic):           2.44e-85\n",
      "Time:                        15:56:29   Log-Likelihood:                -795.38\n",
      "No. Observations:                 575   AIC:                             1595.\n",
      "Df Residuals:                     573   BIC:                             1603.\n",
      "Df Model:                           1                                         \n",
      "Covariance Type:            nonrobust                                         \n",
      "=========================================================================================\n",
      "                            coef    std err          t      P>|t|      [95.0% Conf. Int.]\n",
      "-----------------------------------------------------------------------------------------\n",
      "Intercept                 0.2479      0.303      0.818      0.414        -0.347     0.843\n",
      "np.log(NormSourceEUI)     1.3382      0.057     23.369      0.000         1.226     1.451\n",
      "==============================================================================\n",
      "Omnibus:                       20.640   Durbin-Watson:                   2.028\n",
      "Prob(Omnibus):                  0.000   Jarque-Bera (JB):               20.807\n",
      "Skew:                           0.433   Prob(JB):                     3.03e-05\n",
      "Kurtosis:                       2.656   Cond. No.                         41.2\n",
      "==============================================================================\n",
      "\n",
      "Warnings:\n",
      "[1] Standard Errors assume that the covariance matrix of the errors is correctly specified.\n",
      "Predicted GHG Emissions: 1670.58919513 in log: 7.42093165464\n"
     ]
    }
   ],
   "source": [
    "ghg = smf.ols('np.log(GHG) ~ np.log(NormSourceEUI)', data=data05_clean, missing='drop').fit()\n",
    "print ghg.summary()\n",
    "detail = ghg.params[0] + ghg.params[1]*np.log(212.738953122)\n",
    "y = math.exp(detail)\n",
    "print 'Predicted GHG Emissions:', y, 'in log:', detail"
   ]
  },
  {
   "cell_type": "markdown",
   "metadata": {},
   "source": [
    "#### How this faires with other office buildings:"
   ]
  },
  {
   "cell_type": "code",
   "execution_count": 299,
   "metadata": {
    "collapsed": false
   },
   "outputs": [],
   "source": [
    "data05_clean['GHG'].describe()\n",
    "median = data05_clean['GHG'].describe()[5]\n",
    "median = np.log(median)"
   ]
  },
  {
   "cell_type": "code",
   "execution_count": 300,
   "metadata": {
    "collapsed": true
   },
   "outputs": [],
   "source": [
    "X = np.linspace(np.log(data05_clean['GHG'].min()),np.log(data05_clean['GHG'].max()),1000)\n",
    "Y = ghg.params[0] + ghg.params[1]*np.log(X)"
   ]
  },
  {
   "cell_type": "code",
   "execution_count": 301,
   "metadata": {
    "collapsed": false
   },
   "outputs": [
    {
     "data": {
      "text/plain": [
       "<matplotlib.legend.Legend at 0x1d536f790>"
      ]
     },
     "execution_count": 301,
     "metadata": {},
     "output_type": "execute_result"
    },
    {
     "data": {
      "image/png": "[encoded data removed]",
      "text/plain": [
       "<matplotlib.figure.Figure at 0x1cf13b4d0>"
      ]
     },
     "metadata": {},
     "output_type": "display_data"
    }
   ],
   "source": [
    "from statsmodels.graphics.api import abline_plot\n",
    "figure, ax = pl.subplots(figsize=(10,10))\n",
    "ax.scatter(np.log(data05_clean['GHG']), np.log(data05_clean['NormSourceEUI']),s=40,c='c')\n",
    "ax.scatter(detail,np.log(eui),c='r',s=50, label='370 Jay Street')\n",
    "ax.plot(X,Y)\n",
    "ax.axvline(median,0,12, label='Median value for GHG',c='salmon', linewidth=4)\n",
    "ax.set_xlabel('Log of GHG')\n",
    "ax.set_ylabel('Log of Normalized Source EUI')\n",
    "ax.legend()"
   ]
  },
  {
   "cell_type": "markdown",
   "metadata": {},
   "source": [
    "The forecasted GHG emissions of 370 Jay Street are above median. "
   ]
  },
  {
   "cell_type": "code",
   "execution_count": 275,
   "metadata": {
    "collapsed": false
   },
   "outputs": [
    {
     "data": {
      "text/plain": [
       "count      141.000000\n",
       "mean      3157.147518\n",
       "std       3789.083482\n",
       "min        359.100000\n",
       "25%        758.300000\n",
       "50%       1807.800000\n",
       "75%       4025.100000\n",
       "max      24002.500000\n",
       "Name: GHG, dtype: float64"
      ]
     },
     "execution_count": 275,
     "metadata": {},
     "output_type": "execute_result"
    }
   ],
   "source": [
    "data05_clean['GHG'][(data05_clean['NormSourceEUI']>200)&(data05_clean['NormSourceEUI']<250)].describe()"
   ]
  },
  {
   "cell_type": "code",
   "execution_count": 272,
   "metadata": {
    "collapsed": false
   },
   "outputs": [
    {
     "name": "stdout",
     "output_type": "stream",
     "text": [
      "Predicted GHG Emissions: 920.700835456 in log: 6.82513515771\n"
     ]
    }
   ],
   "source": [
    "detail = ghg.params[0] + ghg.params[1]*np.log(136.3)\n",
    "y = math.exp(detail)\n",
    "print 'Predicted GHG Emissions:', y, 'in log:', detail"
   ]
  },
  {
   "cell_type": "markdown",
   "metadata": {},
   "source": [
    "## Normalized Site EUI for percentage share of block"
   ]
  },
  {
   "cell_type": "code",
   "execution_count": 283,
   "metadata": {
    "collapsed": false
   },
   "outputs": [
    {
     "name": "stdout",
     "output_type": "stream",
     "text": [
      "                            OLS Regression Results                            \n",
      "==============================================================================\n",
      "Dep. Variable:        np.log(NormEUI)   R-squared:                       0.025\n",
      "Model:                            OLS   Adj. R-squared:                  0.023\n",
      "Method:                 Least Squares   F-statistic:                     14.59\n",
      "Date:                Thu, 29 Oct 2015   Prob (F-statistic):           0.000148\n",
      "Time:                        11:50:56   Log-Likelihood:                -640.89\n",
      "No. Observations:                 575   AIC:                             1286.\n",
      "Df Residuals:                     573   BIC:                             1294.\n",
      "Df Model:                           1                                         \n",
      "Covariance Type:            nonrobust                                         \n",
      "=====================================================================================\n",
      "                        coef    std err          t      P>|t|      [95.0% Conf. Int.]\n",
      "-------------------------------------------------------------------------------------\n",
      "Intercept             2.9359      0.391      7.506      0.000         2.168     3.704\n",
      "np.log(FloorArea)     0.1213      0.032      3.820      0.000         0.059     0.184\n",
      "==============================================================================\n",
      "Omnibus:                      489.848   Durbin-Watson:                   2.056\n",
      "Prob(Omnibus):                  0.000   Jarque-Bera (JB):            27730.477\n",
      "Skew:                           3.336   Prob(JB):                         0.00\n",
      "Kurtosis:                      36.361   Cond. No.                         157.\n",
      "==============================================================================\n",
      "\n",
      "Warnings:\n",
      "[1] Standard Errors assume that the covariance matrix of the errors is correctly specified.\n",
      "Predicted Norm EUI: 91.5638582689 in log: 4.51703663344\n"
     ]
    }
   ],
   "source": [
    "site = smf.ols('np.log(NormEUI) ~ np.log(FloorArea)', data=data05_clean, missing='drop').fit()\n",
    "print site.summary()\n",
    "siteeui = site.params[0] + site.params[1]*np.log(460000)\n",
    "e = math.exp(siteeui)\n",
    "print 'Predicted Norm EUI:', e, 'in log:', siteeui"
   ]
  },
  {
   "cell_type": "code",
   "execution_count": 286,
   "metadata": {
    "collapsed": false
   },
   "outputs": [
    {
     "name": "stdout",
     "output_type": "stream",
     "text": [
      "Share of block energy usage: 0.389157838883 %\n"
     ]
    }
   ],
   "source": [
    "print 'Share of block energy usage:',(e*100/2352872)*100,'%'"
   ]
  },
  {
   "cell_type": "markdown",
   "metadata": {},
   "source": [
    "# Energy Star Portfolio Manager Estimation"
   ]
  },
  {
   "cell_type": "code",
   "execution_count": 292,
   "metadata": {
    "collapsed": false
   },
   "outputs": [
    {
     "data": {
      "text/html": [
       "<div>\n",
       "<table border=\"1\" class=\"dataframe\">\n",
       "  <thead>\n",
       "    <tr style=\"text-align: right;\">\n",
       "      <th></th>\n",
       "      <th>Variables</th>\n",
       "      <th>NYU value</th>\n",
       "      <th>Reference Centering Value*</th>\n",
       "      <th>NYU adjusted value</th>\n",
       "      <th>Coefficient</th>\n",
       "      <th>Predicted independent value</th>\n",
       "    </tr>\n",
       "  </thead>\n",
       "  <tbody>\n",
       "    <tr>\n",
       "      <th>0</th>\n",
       "      <td>Constant</td>\n",
       "      <td>NaN</td>\n",
       "      <td>NaN</td>\n",
       "      <td>NaN</td>\n",
       "      <td>186.6000</td>\n",
       "      <td>186.600000</td>\n",
       "    </tr>\n",
       "    <tr>\n",
       "      <th>1</th>\n",
       "      <td>Ln(Square Foot)</td>\n",
       "      <td>13.038982</td>\n",
       "      <td>9.5350</td>\n",
       "      <td>3.503982</td>\n",
       "      <td>34.1700</td>\n",
       "      <td>119.731057</td>\n",
       "    </tr>\n",
       "    <tr>\n",
       "      <th>2</th>\n",
       "      <td># of PCs per 1000 ft2</td>\n",
       "      <td>2.000000</td>\n",
       "      <td>2.2310</td>\n",
       "      <td>-0.231000</td>\n",
       "      <td>17.2800</td>\n",
       "      <td>-3.991680</td>\n",
       "    </tr>\n",
       "    <tr>\n",
       "      <th>3</th>\n",
       "      <td>Ln(Weekly Operating Hours)</td>\n",
       "      <td>4.276666</td>\n",
       "      <td>3.9720</td>\n",
       "      <td>0.304666</td>\n",
       "      <td>55.9600</td>\n",
       "      <td>17.049116</td>\n",
       "    </tr>\n",
       "    <tr>\n",
       "      <th>4</th>\n",
       "      <td>Ln(Number of Workers per 1000 ft2)</td>\n",
       "      <td>0.832909</td>\n",
       "      <td>0.5616</td>\n",
       "      <td>0.271309</td>\n",
       "      <td>10.3400</td>\n",
       "      <td>2.805336</td>\n",
       "    </tr>\n",
       "    <tr>\n",
       "      <th>5</th>\n",
       "      <td>HDD * % Heated</td>\n",
       "      <td>4691.100000</td>\n",
       "      <td>4411.0000</td>\n",
       "      <td>280.100000</td>\n",
       "      <td>0.0077</td>\n",
       "      <td>2.156770</td>\n",
       "    </tr>\n",
       "    <tr>\n",
       "      <th>6</th>\n",
       "      <td>CDD * % Cooled</td>\n",
       "      <td>1123.850000</td>\n",
       "      <td>1157.0000</td>\n",
       "      <td>-33.150000</td>\n",
       "      <td>0.0144</td>\n",
       "      <td>-0.477360</td>\n",
       "    </tr>\n",
       "  </tbody>\n",
       "</table>\n",
       "</div>"
      ],
      "text/plain": [
       "                            Variables    NYU value  \\\n",
       "0                            Constant          NaN   \n",
       "1                     Ln(Square Foot)    13.038982   \n",
       "2               # of PCs per 1000 ft2     2.000000   \n",
       "3          Ln(Weekly Operating Hours)     4.276666   \n",
       "4  Ln(Number of Workers per 1000 ft2)     0.832909   \n",
       "5                      HDD * % Heated  4691.100000   \n",
       "6                      CDD * % Cooled  1123.850000   \n",
       "\n",
       "   Reference Centering Value*  NYU adjusted value  Coefficient  \\\n",
       "0                         NaN                 NaN     186.6000   \n",
       "1                      9.5350            3.503982      34.1700   \n",
       "2                      2.2310           -0.231000      17.2800   \n",
       "3                      3.9720            0.304666      55.9600   \n",
       "4                      0.5616            0.271309      10.3400   \n",
       "5                   4411.0000          280.100000       0.0077   \n",
       "6                   1157.0000          -33.150000       0.0144   \n",
       "\n",
       "   Predicted independent value  \n",
       "0                   186.600000  \n",
       "1                   119.731057  \n",
       "2                    -3.991680  \n",
       "3                    17.049116  \n",
       "4                     2.805336  \n",
       "5                     2.156770  \n",
       "6                    -0.477360  "
      ]
     },
     "execution_count": 292,
     "metadata": {},
     "output_type": "execute_result"
    }
   ],
   "source": [
    "star = pd.read_csv('EnergyStar.csv')\n",
    "star"
   ]
  },
  {
   "cell_type": "code",
   "execution_count": 290,
   "metadata": {
    "collapsed": false
   },
   "outputs": [
    {
     "name": "stdout",
     "output_type": "stream",
     "text": [
      "Estimated Source EUI: 323.873239351\n"
     ]
    }
   ],
   "source": [
    "print 'Estimated Source EUI:', star['Predicted independent value'].sum()"
   ]
  }
 ],
 "metadata": {
  "kernelspec": {
   "display_name": "Python 2",
   "language": "python",
   "name": "python2"
  },
  "language_info": {
   "codemirror_mode": {
    "name": "ipython",
    "version": 2
   },
   "file_extension": ".py",
   "mimetype": "text/x-python",
   "name": "python",
   "nbconvert_exporter": "python",
   "pygments_lexer": "ipython2",
   "version": "2.7.10"
  }
 },
 "nbformat": 4,
 "nbformat_minor": 0
}
