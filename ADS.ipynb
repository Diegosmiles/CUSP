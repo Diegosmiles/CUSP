{
 "cells": [
  {
   "cell_type": "code",
   "execution_count": 1,
   "metadata": {
    "collapsed": false
   },
   "outputs": [
    {
     "name": "stdout",
     "output_type": "stream",
     "text": [
      "Populating the interactive namespace from numpy and matplotlib\n"
     ]
    }
   ],
   "source": [
    "import pandas as pd\n",
    "import numpy as np\n",
    "import pylab as pl\n",
    "from scipy import stats\n",
    "%pylab inline\n",
    "pl.style.use('ggplot')"
   ]
  },
  {
   "cell_type": "code",
   "execution_count": 2,
   "metadata": {
    "collapsed": false
   },
   "outputs": [],
   "source": [
    "data = pd.read_csv('Databases/Pollution/Main2015.csv')"
   ]
  },
  {
   "cell_type": "code",
   "execution_count": 3,
   "metadata": {
    "collapsed": true
   },
   "outputs": [],
   "source": [
    "# data.info()"
   ]
  },
  {
   "cell_type": "code",
   "execution_count": 4,
   "metadata": {
    "collapsed": false
   },
   "outputs": [
    {
     "name": "stdout",
     "output_type": "stream",
     "text": [
      "961\n"
     ]
    }
   ],
   "source": [
    "print np.size(data['City Name'].unique())"
   ]
  },
  {
   "cell_type": "markdown",
   "metadata": {},
   "source": [
    "There are 961 unique cities in the dataset, several of them have more than one pollution observation."
   ]
  },
  {
   "cell_type": "code",
   "execution_count": 5,
   "metadata": {
    "collapsed": false
   },
   "outputs": [
    {
     "data": {
      "text/plain": [
       "PM25 Annual 2006           993\n",
       "PM25 Annual 2013           993\n",
       "PM25 24-hour 2013          993\n",
       "PM25 24-hour 2006          993\n",
       "PM10 24-hour 2006          708\n",
       "Ozone 8-Hour 1997          606\n",
       "Ozone 8-Hour 2008          606\n",
       "Ozone 1-hour Daily 2005    606\n",
       "SO2 3-hour 1971            378\n",
       "SO2 1-hour 2010            378\n",
       "dtype: int64"
      ]
     },
     "execution_count": 5,
     "metadata": {},
     "output_type": "execute_result"
    }
   ],
   "source": [
    "data['Pollutant Standard'].value_counts()[:10]"
   ]
  },
  {
   "cell_type": "markdown",
   "metadata": {},
   "source": [
    "Use PM 2.5 Annual 2013 since these particles are created by different types of emissions and are due to its size, a major concern for human health."
   ]
  },
  {
   "cell_type": "code",
   "execution_count": 73,
   "metadata": {
    "collapsed": false
   },
   "outputs": [],
   "source": [
    "overview = data[['Latitude','Longitude','Parameter Name','Sample Duration','Pollutant Standard','Method Name','Units of Measure',\n",
    "                 'Arithmetic Mean','Local Site Name','State Name','City Name','State Name']]\n",
    "overview = overview[overview['Pollutant Standard']=='PM25 Annual 2013']\n",
    "overview = overview.dropna()"
   ]
  },
  {
   "cell_type": "code",
   "execution_count": 74,
   "metadata": {
    "collapsed": false,
    "scrolled": false
   },
   "outputs": [],
   "source": [
    "pivot = overview.groupby('City Name')\n",
    "# print pivot['Arithmetic Mean'].mean()"
   ]
  },
  {
   "cell_type": "code",
   "execution_count": 79,
   "metadata": {
    "collapsed": false
   },
   "outputs": [],
   "source": [
    "# reset_index transforms series into dataframe. allows for mergers later on.\n",
    "\n",
    "# Get mean columns\n",
    "pm_mean = pivot['Arithmetic Mean'].apply(np.mean).reset_index()\n",
    "\n",
    "# Get sample duration mode\n",
    "sam_mode = pivot['Sample Duration'].apply(stats.mode).reset_index()\n",
    "# print sam_mode\n",
    "\n",
    "# Get number of observation\n",
    "num_obs = pivot['Sample Duration'].apply(np.count_nonzero).reset_index()\n",
    "num_obs = num_obs.rename(columns={'Sample Duration':'Observatories Count'})\n",
    "# print num_obs\n",
    "# Check if count worked, Birmingham has six observations\n",
    "# birm = overview[overview['City Name']=='Birmingham'].apply(np.count_nonzero)\n",
    "# print birm\n",
    "\n",
    "# Get mode of measurement units\n",
    "uni_mode = pivot['Units of Measure'].apply(stats.mode).reset_index()\n",
    "for i in uni_mode['Units of Measure']:\n",
    "    uni_mode['MeasureUnits'] = uni_mode['Units of Measure'].apply(lambda x: x[0])\n",
    "# print uni_mode\n",
    "\n",
    "# Get mode of method name\n",
    "meth_mode = pivot['Method Name'].apply(stats.mode).reset_index()\n",
    "# print meth_mode\n",
    "\n",
    "# Get aggregate of longitude/latitude\n",
    "lat = pivot['Latitude'].apply(stats.mode).reset_index()\n",
    "lon = pivot['Longitude'].apply(stats.mode).reset_index()\n",
    "# print lat, lon\n",
    "\n",
    "# Get state info\n",
    "state = pivot['State Name'].apply(stats.mode).reset_index()\n",
    "for i in state['State Name']:\n",
    "    state['StateName'] = state['State Name'].apply(lambda x: x[0][0][0]) "
   ]
  },
  {
   "cell_type": "code",
   "execution_count": 80,
   "metadata": {
    "collapsed": false
   },
   "outputs": [
    {
     "name": "stdout",
     "output_type": "stream",
     "text": [
      "<class 'pandas.core.frame.DataFrame'>\n",
      "Int64Index: 372 entries, 0 to 371\n",
      "Data columns (total 11 columns):\n",
      "City Name              372 non-null object\n",
      "Arithmetic Mean        372 non-null float64\n",
      "Sample Duration        372 non-null object\n",
      "Observatories Count    372 non-null int64\n",
      "Units of Measure       372 non-null object\n",
      "MeasureUnits           372 non-null object\n",
      "Method Name            372 non-null object\n",
      "Latitude               372 non-null object\n",
      "Longitude              372 non-null object\n",
      "State Name             372 non-null object\n",
      "StateName              372 non-null object\n",
      "dtypes: float64(1), int64(1), object(9)\n",
      "memory usage: 34.9+ KB\n"
     ]
    }
   ],
   "source": [
    "# Merge all\n",
    "p1 = pd.merge(pm_mean, sam_mode, on='City Name', how='inner')\n",
    "p2 = p1.merge(num_obs, on='City Name', how='inner')\n",
    "p3 = p2.merge(uni_mode, on='City Name', how='inner')\n",
    "p4 = p3.merge(meth_mode, on='City Name', how='inner')\n",
    "p5 = p4.merge(lat, on='City Name', how='inner')\n",
    "p6 = p5.merge(lon, on='City Name', how='inner')\n",
    "pivot_final = p6.merge(state, on='City Name', how='inner')\n",
    "pivot_final.info()"
   ]
  },
  {
   "cell_type": "code",
   "execution_count": 89,
   "metadata": {
    "collapsed": false
   },
   "outputs": [],
   "source": [
    "for i in pivot_final['Method Name']:\n",
    "    pivot_final['MethodName'] = pivot_final['Method Name'].apply(lambda x: x[0])    \n",
    "for i in pivot_final['Latitude']:\n",
    "    pivot_final['Lat']= pivot_final['Latitude'].apply(lambda x: x[0])   \n",
    "for i in pivot_final['Longitude']:\n",
    "    pivot_final['Long'] = pivot_final['Longitude'].apply(lambda x: x[0])\n",
    "for i in pivot_final['Sample Duration']:\n",
    "    pivot_final['SampleDuration'] = pivot_final['Sample Duration'].apply(lambda x: x[0])    "
   ]
  },
  {
   "cell_type": "code",
   "execution_count": 90,
   "metadata": {
    "collapsed": false
   },
   "outputs": [
    {
     "name": "stdout",
     "output_type": "stream",
     "text": [
      "<class 'pandas.core.frame.DataFrame'>\n",
      "Int64Index: 372 entries, 0 to 371\n",
      "Data columns (total 15 columns):\n",
      "City Name              372 non-null object\n",
      "Arithmetic Mean        372 non-null float64\n",
      "Sample Duration        372 non-null object\n",
      "Observatories Count    372 non-null int64\n",
      "Units of Measure       372 non-null object\n",
      "MeasureUnits           372 non-null object\n",
      "Method Name            372 non-null object\n",
      "Latitude               372 non-null object\n",
      "Longitude              372 non-null object\n",
      "State Name             372 non-null object\n",
      "StateName              372 non-null object\n",
      "MethodName             372 non-null object\n",
      "Lat                    372 non-null object\n",
      "Long                   372 non-null object\n",
      "SampleDuration         372 non-null object\n",
      "dtypes: float64(1), int64(1), object(13)\n",
      "memory usage: 46.5+ KB\n"
     ]
    }
   ],
   "source": [
    "pivot_final.info()"
   ]
  },
  {
   "cell_type": "code",
   "execution_count": 109,
   "metadata": {
    "collapsed": false
   },
   "outputs": [
    {
     "name": "stdout",
     "output_type": "stream",
     "text": [
      "<class 'pandas.core.frame.DataFrame'>\n",
      "Int64Index: 372 entries, 0 to 371\n",
      "Data columns (total 15 columns):\n",
      "City Name              372 non-null object\n",
      "Arithmetic Mean        372 non-null float64\n",
      "Sample Duration        372 non-null object\n",
      "Observatories Count    372 non-null int64\n",
      "Units of Measure       372 non-null object\n",
      "MeasureUnits           372 non-null object\n",
      "Method Name            372 non-null object\n",
      "Latitude               372 non-null object\n",
      "Longitude              372 non-null object\n",
      "State Name             372 non-null object\n",
      "StateName              372 non-null object\n",
      "MethodName             372 non-null object\n",
      "Lat                    372 non-null object\n",
      "Long                   372 non-null object\n",
      "SampleDuration         372 non-null object\n",
      "dtypes: float64(1), int64(1), object(13)\n",
      "memory usage: 46.5+ KB\n"
     ]
    }
   ],
   "source": [
    "pivot_final.drop(['Sample Duration','State Name','Longitude','Method Name','Units of Measure','Latitude'], axis=1)\n",
    "pivot_final.info()"
   ]
  },
  {
   "cell_type": "code",
   "execution_count": 110,
   "metadata": {
    "collapsed": false
   },
   "outputs": [
    {
     "ename": "AttributeError",
     "evalue": "'builtin_function_or_method' object has no attribute 'pdf'",
     "output_type": "error",
     "traceback": [
      "\u001b[0;31m---------------------------------------------------------------------------\u001b[0m",
      "\u001b[0;31mAttributeError\u001b[0m                            Traceback (most recent call last)",
      "\u001b[0;32m<ipython-input-110-01989db5956c>\u001b[0m in \u001b[0;36m<module>\u001b[0;34m()\u001b[0m\n\u001b[1;32m      5\u001b[0m \u001b[0;34m\u001b[0m\u001b[0m\n\u001b[1;32m      6\u001b[0m \u001b[0mbins\u001b[0m\u001b[0;34m,\u001b[0m \u001b[0mhist\u001b[0m\u001b[0;34m,\u001b[0m \u001b[0mpatches\u001b[0m \u001b[0;34m=\u001b[0m \u001b[0mpl\u001b[0m\u001b[0;34m.\u001b[0m\u001b[0mhist\u001b[0m\u001b[0;34m(\u001b[0m\u001b[0mpivot_final\u001b[0m\u001b[0;34m[\u001b[0m\u001b[0;34m'Arithmetic Mean'\u001b[0m\u001b[0;34m]\u001b[0m\u001b[0;34m,\u001b[0m \u001b[0mbins\u001b[0m\u001b[0;34m=\u001b[0m\u001b[0;36m100\u001b[0m\u001b[0;34m)\u001b[0m\u001b[0;34m\u001b[0m\u001b[0m\n\u001b[0;32m----> 7\u001b[0;31m \u001b[0mpl\u001b[0m\u001b[0;34m.\u001b[0m\u001b[0mplot\u001b[0m\u001b[0;34m(\u001b[0m\u001b[0mnp\u001b[0m\u001b[0;34m.\u001b[0m\u001b[0mrandom\u001b[0m\u001b[0;34m.\u001b[0m\u001b[0mnormal\u001b[0m\u001b[0;34m.\u001b[0m\u001b[0mpdf\u001b[0m\u001b[0;34m(\u001b[0m\u001b[0mmean\u001b[0m\u001b[0;34m,\u001b[0m \u001b[0mstd\u001b[0m\u001b[0;34m,\u001b[0m \u001b[0;36m372\u001b[0m\u001b[0;34m)\u001b[0m\u001b[0;34m)\u001b[0m\u001b[0;34m\u001b[0m\u001b[0m\n\u001b[0m\u001b[1;32m      8\u001b[0m \u001b[0mpl\u001b[0m\u001b[0;34m.\u001b[0m\u001b[0mxlabel\u001b[0m\u001b[0;34m(\u001b[0m\u001b[0;34m'PM 2.5 Annual 2013 [Micrograms/cubic meter (LC)]'\u001b[0m\u001b[0;34m)\u001b[0m\u001b[0;34m\u001b[0m\u001b[0m\n\u001b[1;32m      9\u001b[0m \u001b[0mpl\u001b[0m\u001b[0;34m.\u001b[0m\u001b[0mylabel\u001b[0m\u001b[0;34m(\u001b[0m\u001b[0;34m'Frequency'\u001b[0m\u001b[0;34m)\u001b[0m\u001b[0;34m\u001b[0m\u001b[0m\n",
      "\u001b[0;31mAttributeError\u001b[0m: 'builtin_function_or_method' object has no attribute 'pdf'"
     ]
    },
    {
     "data": {
      "image/png": "[encoded data removed]",
      "text/plain": [
       "<matplotlib.figure.Figure at 0x104811990>"
      ]
     },
     "metadata": {},
     "output_type": "display_data"
    }
   ],
   "source": [
    "pl.figure(figsize=(10,10))\n",
    "mean = pivot_final['Arithmetic Mean'].mean()\n",
    "std = pivot_final['Arithmetic Mean'].std()\n",
    "\n",
    "\n",
    "bins, hist, patches = pl.hist(pivot_final['Arithmetic Mean'], bins=100)\n",
    "pl.plot(stats.random.normal.pdf(mean, std, 372))\n",
    "pl.xlabel('PM 2.5 Annual 2013 [Micrograms/cubic meter (LC)]')\n",
    "pl.ylabel('Frequency')\n",
    "pl.title('Histogram of PM 2.5 Levels Nationwide')"
   ]
  },
  {
   "cell_type": "code",
   "execution_count": 108,
   "metadata": {
    "collapsed": false
   },
   "outputs": [],
   "source": []
  },
  {
   "cell_type": "code",
   "execution_count": null,
   "metadata": {
    "collapsed": true
   },
   "outputs": [],
   "source": []
  }
 ],
 "metadata": {
  "kernelspec": {
   "display_name": "Python 2",
   "language": "python",
   "name": "python2"
  },
  "language_info": {
   "codemirror_mode": {
    "name": "ipython",
    "version": 2
   },
   "file_extension": ".py",
   "mimetype": "text/x-python",
   "name": "python",
   "nbconvert_exporter": "python",
   "pygments_lexer": "ipython2",
   "version": "2.7.10"
  }
 },
 "nbformat": 4,
 "nbformat_minor": 0
}
